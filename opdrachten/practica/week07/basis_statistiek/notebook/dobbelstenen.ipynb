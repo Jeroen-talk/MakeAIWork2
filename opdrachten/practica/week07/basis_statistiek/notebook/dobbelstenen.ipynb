{
 "cells": [
  {
   "cell_type": "markdown",
   "id": "818a1af7-9708-4bae-92fe-fa36b678d2be",
   "metadata": {},
   "source": [
    "<a href=\"https://it-omscholing.nl/locaties/hogeschool-rotterdam/\">\n",
    "<div>\n",
    "<a><img src='pics/banner.PNG'/></a>\n",
    "</div>\n",
    "<div>\n",
    "<a href=''><img src='pics/miw.PNG'/></a>\n",
    "<em>Author: Jeroen Boogaard</em>\n",
    "</div>\n",
    "</a>"
   ]
  },
  {
   "cell_type": "markdown",
   "id": "a9ff9227-1da2-489e-a4b4-d661d44ce68f",
   "metadata": {},
   "source": [
    "<h1>Practicum Basis Statistiek</h1>"
   ]
  },
  {
   "cell_type": "markdown",
   "id": "0437b096-4322-4054-a14f-b26c9a12999d",
   "metadata": {},
   "source": [
    "<h2>Dobbelstenen</h2>"
   ]
  },
  {
   "cell_type": "markdown",
   "id": "67fc0ddf-6732-496e-a406-77e1776d7359",
   "metadata": {},
   "source": [
    "<div>\n",
    "<img src='pics/dobbelsteen.jpg'/>    \n",
    "</div>    "
   ]
  },
  {
   "cell_type": "code",
   "execution_count": 2,
   "id": "84d02a33",
   "metadata": {},
   "outputs": [],
   "source": [
    "from dobbelsteen import Dobbelsteen\n",
    "from matplotlib_venn import venn2\n",
    "import matplotlib.pyplot as plot\n",
    "import numpy as np\n",
    "import pandas as pd\n",
    "import pylab as plt\n",
    "import random\n",
    "import seaborn as sns\n",
    "import statistics as st"
   ]
  },
  {
   "cell_type": "markdown",
   "id": "51aae3d0-f644-4552-870c-029b41f24559",
   "metadata": {},
   "source": [
    "<h2>Dobbelsteen</h2>"
   ]
  },
  {
   "cell_type": "code",
   "execution_count": 3,
   "id": "18c0e9c1-d82a-46ee-b6fd-8af1b9f6c81f",
   "metadata": {},
   "outputs": [
    {
     "name": "stdout",
     "output_type": "stream",
     "text": [
      "┌─────────┐\n",
      "│  ●      │\n",
      "│         │\n",
      "│      ●  │\n",
      "└─────────┘\n"
     ]
    }
   ],
   "source": [
    "d = Dobbelsteen()\n",
    "print(d.show())"
   ]
  },
  {
   "cell_type": "markdown",
   "id": "170099a3-4baf-4d2b-9ee2-ba934e368432",
   "metadata": {},
   "source": [
    "<h3>Uitkomstruimte</h3>"
   ]
  },
  {
   "cell_type": "code",
   "execution_count": 4,
   "id": "efdbb9fe-07af-460f-81bb-868d15c2c64e",
   "metadata": {},
   "outputs": [
    {
     "name": "stdout",
     "output_type": "stream",
     "text": [
      "{1, 2, 3, 4, 5, 6}\n"
     ]
    }
   ],
   "source": [
    "print(d.values)  "
   ]
  },
  {
   "cell_type": "markdown",
   "id": "8180133d-56ca-4366-8c0f-bfc87b73cbc5",
   "metadata": {},
   "source": [
    "<h3>Kansmassa-functie</h3>"
   ]
  },
  {
   "cell_type": "code",
   "execution_count": 5,
   "id": "c652271d-7f13-493e-a14e-d70a21e2de39",
   "metadata": {},
   "outputs": [
    {
     "name": "stdout",
     "output_type": "stream",
     "text": [
      "p(1) = 1/6\n",
      "p(2) = 1/6\n",
      "p(3) = 1/6\n",
      "p(4) = 1/6\n",
      "p(5) = 1/6\n",
      "p(6) = 1/6\n"
     ]
    }
   ],
   "source": [
    "p = \"1/6\"\n",
    "prob = {element:p for element in d.getList()}\n",
    "\n",
    "for i in d.getList():\n",
    "    print( f\"p({i}) = {prob.get(i)}\" )"
   ]
  },
  {
   "cell_type": "markdown",
   "id": "80c83e13-30fe-40e2-b7a6-d58e9dfebdd1",
   "metadata": {},
   "source": [
    "<h2>Twee dobbelstenen</h2>"
   ]
  },
  {
   "cell_type": "code",
   "execution_count": 6,
   "id": "03ff353d-e88e-416e-bd64-5ab2b47c8e84",
   "metadata": {},
   "outputs": [
    {
     "name": "stdout",
     "output_type": "stream",
     "text": [
      "┌─────────┐\n",
      "│  ●   ●  │\n",
      "│  ●   ●  │\n",
      "│  ●   ●  │\n",
      "└─────────┘\n",
      "┌─────────┐\n",
      "│  ●      │\n",
      "│         │\n",
      "│      ●  │\n",
      "└─────────┘\n"
     ]
    }
   ],
   "source": [
    "d0 = Dobbelsteen()\n",
    "d1 = Dobbelsteen()\n",
    "print( f\"{d0.show()}\\n{d1.show()}\" )"
   ]
  },
  {
   "cell_type": "markdown",
   "id": "efa076ad-8f22-4db5-a835-c42599369263",
   "metadata": {},
   "source": [
    "<h3>Uitkomstruimte</h3>"
   ]
  },
  {
   "cell_type": "code",
   "execution_count": 7,
   "id": "0ee9d6ad-5b3a-418b-bd41-84ff8d7a50a0",
   "metadata": {},
   "outputs": [
    {
     "data": {
      "image/png": "[encoded data removed]",
      "text/plain": [
       "<Figure size 640x480 with 1 Axes>"
      ]
     },
     "metadata": {},
     "output_type": "display_data"
    }
   ],
   "source": [
    "v = venn2(subsets=(1,1,0,1,0))\n",
    "uitkomsten = \"1 2 3 4 5 6\"\n",
    "v.get_label_by_id('100').set_text(uitkomsten)\n",
    "v.get_label_by_id('010').set_text(uitkomsten)\n",
    "plt.title(\"Twee dobbelstenen\")\n",
    "plt.show()"
   ]
  },
  {
   "cell_type": "markdown",
   "id": "cd3605f8-a3ae-4c51-89f1-9121efb85f40",
   "metadata": {},
   "source": [
    "<h3>Exercise 1</h3>"
   ]
  },
  {
   "cell_type": "markdown",
   "id": "4ad197b3-806e-4fdf-8403-cc63a2fc49b6",
   "metadata": {},
   "source": [
    "<h4>Gegeven</h4>\n",
    "<p>Dobbelstenen d0 en d1</p>"
   ]
  },
  {
   "cell_type": "markdown",
   "id": "99703aeb-ae1d-4662-9ff0-c77bb458dfcf",
   "metadata": {},
   "source": [
    "<h4>Gevraagd</h4>\n",
    "<p>\n",
    "    Maak een <u>set</u> van de <u>gecombineerde uitkomstruimte</u> <i>dice</i> die ontstaat door dobbelstenen d0 en d1 tegelijkertijd te werpen\n",
    "</p>"
   ]
  },
  {
   "cell_type": "markdown",
   "id": "cc81594b-54a3-4c6f-82df-03fed6ad4b62",
   "metadata": {},
   "source": [
    "<h4>Oplossing</h4>"
   ]
  },
  {
   "cell_type": "code",
   "execution_count": 8,
   "id": "44aaea5b-1fea-44dd-ae77-7c3ee0610f9a",
   "metadata": {},
   "outputs": [
    {
     "name": "stdout",
     "output_type": "stream",
     "text": [
      "{(3, 4), (4, 3), (3, 1), (5, 4), (4, 6), (5, 1), (2, 2), (1, 6), (2, 5), (1, 3), (6, 2), (6, 5), (4, 2), (4, 5), (3, 3), (5, 6), (3, 6), (5, 3), (2, 4), (1, 2), (2, 1), (1, 5), (6, 1), (6, 4), (3, 2), (4, 1), (3, 5), (5, 2), (4, 4), (5, 5), (1, 1), (1, 4), (2, 3), (2, 6), (6, 6), (6, 3)}\n",
      "<class 'set'>\n"
     ]
    }
   ],
   "source": [
    "# Oplossing \n",
    "\n",
    "possibilities = [(x,y) for x in d.values for y in d.values]\n",
    "setOfPossibilities = set(possibilities)\n",
    "print(setOfPossibilities)\n",
    "print(type(setOfPossibilities))"
   ]
  },
  {
   "cell_type": "markdown",
   "id": "2e6623ca-8e7c-4168-acc8-91a91ae23297",
   "metadata": {},
   "source": [
    "<h3>Exercise 2</h3>"
   ]
  },
  {
   "cell_type": "markdown",
   "id": "0d6f96b6-34d0-400a-8cf3-b62fbf16cb64",
   "metadata": {},
   "source": [
    "<h4>Gegeven</h4>\n",
    "<p>Dobbelstenen <i>d0</i> en <i>d1</i> en hun gecombineerde uitkomstruimte <i>dice</i></p>"
   ]
  },
  {
   "cell_type": "markdown",
   "id": "9f245fb3-2a56-44c5-b883-76cef863aba0",
   "metadata": {},
   "source": [
    "<h3>Gevraagd</h3>\n",
    "<p>\n",
    "    Geef de <u>kansmassa-functie</u> van de som van het aantal ogen van <i>d0</i> en <i>d1</i><br>\n",
    "    <strong>TIP</strong>: Maak eerst een dictionary met daarin per alle uitkomsten\n",
    "</p>"
   ]
  },
  {
   "cell_type": "markdown",
   "id": "7810f233-a09a-4636-9b17-15fa90aad0d2",
   "metadata": {},
   "source": [
    "<h4>Oplossing</h4>"
   ]
  },
  {
   "cell_type": "code",
   "execution_count": 9,
   "id": "301c93c9-72ae-447d-b6d4-1dc360624a24",
   "metadata": {},
   "outputs": [
    {
     "name": "stdout",
     "output_type": "stream",
     "text": [
      "{2: 1, 3: 2, 4: 3, 5: 4, 6: 5, 7: 6, 8: 5, 9: 4, 10: 3, 11: 2, 12: 1}\n"
     ]
    }
   ],
   "source": [
    "# Oplossing\n",
    "\n",
    "# teller van mogelijkheden\n",
    "mass = {}\n",
    "\n",
    "# optelsom van combinaties vanuit de mogelijkheden\n",
    "sumOfpossibilities=list(map(sum, possibilities))\n",
    "# print(sumOfpossibilities)\n",
    "\n",
    "# telt de uitkomst mogelijkheden \n",
    "for numbers in sumOfpossibilities:\n",
    "     if numbers not in mass:\n",
    "         mass[numbers] = 0\n",
    "     mass[numbers] += 1\n",
    "print(mass)"
   ]
  },
  {
   "cell_type": "code",
   "execution_count": 10,
   "id": "3bf17007-8bb2-44e5-98e5-9dae93a85d83",
   "metadata": {},
   "outputs": [
    {
     "name": "stdout",
     "output_type": "stream",
     "text": [
      "{2: 0.027777777777777776, 3: 0.05555555555555555, 4: 0.08333333333333333, 5: 0.1111111111111111, 6: 0.1388888888888889, 7: 0.16666666666666669, 8: 0.1388888888888889, 9: 0.1111111111111111, 10: 0.08333333333333333, 11: 0.05555555555555555, 12: 0.027777777777777776}\n"
     ]
    }
   ],
   "source": [
    "# oplossing in 1/36\n",
    "\n",
    "# teller van mogelijkheden\n",
    "massOfChance = {}\n",
    "\n",
    "# telt de uitkomst mogelijkheden \n",
    "for numbers in sumOfpossibilities:\n",
    "     if numbers not in massOfChance:\n",
    "         massOfChance[numbers] = 0 \n",
    "     massOfChance[numbers] += 1/36\n",
    "print(massOfChance)"
   ]
  },
  {
   "cell_type": "markdown",
   "id": "c878858c-a5c8-4c52-b093-13b46ae78b7d",
   "metadata": {},
   "source": [
    "<h3>Metrics</h3>"
   ]
  },
  {
   "cell_type": "markdown",
   "id": "dce2fe5f-9c9d-49e8-a03b-28d0eedc368f",
   "metadata": {},
   "source": [
    "**Gebruik een numpy array voor het bepalen van centrum-maten**"
   ]
  },
  {
   "cell_type": "markdown",
   "id": "e82be685-7f00-4b64-8b4a-e47c9b584e0b",
   "metadata": {},
   "source": [
    "<h3>Exercise 3a</h3>"
   ]
  },
  {
   "cell_type": "markdown",
   "id": "0a1f3850-fe36-4b18-b5f4-d3887c8a9341",
   "metadata": {},
   "source": [
    "<h4>Gegeven</h4>\n",
    "<p>De class Dobbelsteen in de module dobbelsteen.py</p>"
   ]
  },
  {
   "cell_type": "code",
   "execution_count": 25,
   "id": "619543c6-d4ee-4352-9a6b-dc77ddf660de",
   "metadata": {},
   "outputs": [],
   "source": [
    "d2 = Dobbelsteen()\n",
    "d3 = Dobbelsteen()\n",
    "histD2 = np.empty(1000)\n",
    "histD3 = np.empty(1000)"
   ]
  },
  {
   "cell_type": "markdown",
   "id": "2c2b9484-ff4a-4634-9e95-09bc9a808c51",
   "metadata": {
    "tags": []
   },
   "source": [
    "<h4>Gevraagd</h4>\n",
    "<p>\n",
    "    Voeg het volgende toe aan class Dobbelsteen:\n",
    "    <ol>\n",
    "        <li>list variabele <u>history</u> waaraan de uitkomst van iedere worp wordt toegevoegd</li>\n",
    "        <li>methode <u>getHistory(self)</u> die de waarde van variabele <u>history</u> geeft als <u>numpy-array</u></li>\n",
    "    <li>Schrijf in de cell hieronder een loop die 1000 keer zowel <i>d2</i> als <i>d3</i> werpt en sla de uitkomsten op in rescpectievelijk <i>histD2</i> en <i>histD3</i>. Maak daarbij gebruik van de methode <u>getHistory()</u> uit de vorige stap</li>\n",
    "    </ol>\n",
    " </p>  "
   ]
  },
  {
   "cell_type": "code",
   "execution_count": 26,
   "id": "70ff2f75-ffd2-425a-af9e-0ae7e169bd99",
   "metadata": {},
   "outputs": [],
   "source": [
    "# Oplossing\n",
    "\n",
    "for i in range(0,10000):\n",
    "    d2.roll()\n",
    "    d3.roll()\n",
    "  "
   ]
  },
  {
   "cell_type": "code",
   "execution_count": 27,
   "id": "8fef78df-838e-438b-bc40-e69c1288db2c",
   "metadata": {},
   "outputs": [
    {
     "name": "stdout",
     "output_type": "stream",
     "text": [
      "<class 'numpy.ndarray'>\n"
     ]
    }
   ],
   "source": [
    "histD2 = d2.getHistory()\n",
    "histD3 = d3.getHistory()\n",
    "# print(type(histD2))\n",
    "print(type(histD3))\n",
    "# print(histD2)"
   ]
  },
  {
   "cell_type": "markdown",
   "id": "c252c0ad-fcc1-4e19-8e5c-e5d210d603a9",
   "metadata": {},
   "source": [
    "<h3>Exercise 3b</h3>"
   ]
  },
  {
   "cell_type": "markdown",
   "id": "e954f144-4cdf-487f-8ac3-dd81b82abd54",
   "metadata": {},
   "source": [
    "<h4>Gevraagd</h4>\n",
    "<p>\n",
    "    <ol>\n",
    "        <li>Maak een <u>numpy array histD2D3</u> waarin de uitkomsten van <i>d2</i> en <i>d3</i> paarsgewijs bij elkaar zijn opgeteld.<br> <strong>Hint</strong>: <i>histD2D3 = np.add(histD2, histD3)</i></li> \n",
    "        <li>Print van de modus van zowel histD2 als histD3</li>\n",
    "        <li>Vul onderstaande code aan een <u>histogram van histD2D3</u>.\n",
    "    </ol>\n",
    " </p>  "
   ]
  },
  {
   "cell_type": "code",
   "execution_count": 28,
   "id": "cc06d584-bc6f-4c39-9137-5b5111bf87b5",
   "metadata": {},
   "outputs": [],
   "source": [
    "histD2D3 = np.add(histD2, histD3)\n",
    "# print(histD2D3)\n",
    "# type(histD2D3)"
   ]
  },
  {
   "cell_type": "code",
   "execution_count": 29,
   "id": "2a008910-462a-4df2-bc93-baf00bc09690",
   "metadata": {},
   "outputs": [
    {
     "data": {
      "image/png": "[encoded data removed]",
      "text/plain": [
       "<Figure size 640x480 with 1 Axes>"
      ]
     },
     "metadata": {},
     "output_type": "display_data"
    }
   ],
   "source": [
    "# Oplossing\n",
    "\n",
    "uitkomsten = histD2D3\n",
    "\n",
    "# Rechtermarge van 2 toegevoegd\n",
    "bins = range(histD2D3.min(), histD2D3.max()+2)\n",
    "plt.hist(uitkomsten, bins) \n",
    "plt.title(\"Som van twee dobbelstenen\") \n",
    "plt.show()"
   ]
  },
  {
   "cell_type": "code",
   "execution_count": null,
   "id": "956b14af-5b43-4ff2-886e-c739edf3fa67",
   "metadata": {},
   "outputs": [],
   "source": []
  },
  {
   "cell_type": "code",
   "execution_count": null,
   "id": "8d61a5a7-4913-4b74-8dda-b609d40eadec",
   "metadata": {},
   "outputs": [],
   "source": []
  }
 ],
 "metadata": {
  "kernelspec": {
   "display_name": "Python 3 (ipykernel)",
   "language": "python",
   "name": "python3"
  },
  "language_info": {
   "codemirror_mode": {
    "name": "ipython",
    "version": 3
   },
   "file_extension": ".py",
   "mimetype": "text/x-python",
   "name": "python",
   "nbconvert_exporter": "python",
   "pygments_lexer": "ipython3",
   "version": "3.9.12"
  },
  "vscode": {
   "interpreter": {
    "hash": "d02fac44709278d5f28054e7c5f80cc0816c38bd22abdc341a16741f693f9ad6"
   }
  }
 },
 "nbformat": 4,
 "nbformat_minor": 5
}
