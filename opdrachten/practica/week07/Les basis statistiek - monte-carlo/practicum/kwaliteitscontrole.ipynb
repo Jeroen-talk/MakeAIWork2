{
 "cells": [
  {
   "cell_type": "markdown",
   "id": "4bdbdeaa-79d8-416d-91b6-0566f3f2eaf4",
   "metadata": {
    "tags": []
   },
   "source": [
    "# Statistische kwaliteitscontrole"
   ]
  },
  {
   "cell_type": "markdown",
   "id": "64960ef1-4dce-4f48-b69f-fc48178fdc2c",
   "metadata": {},
   "source": [
    "![quality](quality.jpg)"
   ]
  },
  {
   "cell_type": "markdown",
   "id": "d1af3142-d8be-4a22-a21b-d058fae53330",
   "metadata": {},
   "source": [
    "## Situatie"
   ]
  },
  {
   "cell_type": "markdown",
   "id": "1a944e91-9e18-42cc-b419-7d3f2c7d655e",
   "metadata": {},
   "source": [
    "De firma Glow BV produceert lampen.\n",
    "\n",
    "- Bekend is dat **2%** van de productie defecten bevat\n",
    "- De dagproductie bestaat uit **75.000 lampen**"
   ]
  },
  {
   "cell_type": "markdown",
   "id": "3ad208d3-066d-4c7e-a4c7-8456202b308d",
   "metadata": {},
   "source": [
    "## Opdracht"
   ]
  },
  {
   "cell_type": "markdown",
   "id": "0415ea02-1298-480e-8668-1d789d4ae0ff",
   "metadata": {},
   "source": [
    "- Onderzoek hoeveel kapotte lampen je tegenkomt als je **25 lampen** uit de totale dagproductie inspecteert\n",
    "- Voer de inspectie **10 maal** uit\n",
    "- Maak een kort overzicht van je bevindingen (in Excel, met MatplotLib of met print-statements)"
   ]
  },
  {
   "cell_type": "markdown",
   "id": "861d9c5f-0d6d-4f1c-ba69-531d3c632cfe",
   "metadata": {},
   "source": [
    "## Analyse"
   ]
  },
  {
   "cell_type": "markdown",
   "id": "5c86ba6f-4f31-4907-a1af-d3135bb4ae26",
   "metadata": {},
   "source": [
    "- Bedenk hoe je de productie en de productiefout simuleert\n",
    "- Bedenk hoe het inspectieproces verloopt\n",
    "\n",
    "**Hint**: zitten er functies in de [random module](https://www.w3schools.com/python/module_random.asp) die passen bij deze opdracht?"
   ]
  },
  {
   "cell_type": "markdown",
   "id": "61577874-6ad0-4406-b49c-bfe83337d3d5",
   "metadata": {},
   "source": [
    "## Schetsen"
   ]
  },
  {
   "cell_type": "markdown",
   "id": "22732353-821f-48a0-a1f5-2b09408a3a6f",
   "metadata": {},
   "source": [
    "Werk op basis van je analyse stapsgewijs een oplossing uit in de vorm van comments, bijvoorbeeld:"
   ]
  },
  {
   "cell_type": "code",
   "execution_count": null,
   "id": "397f1676-3852-41ea-b367-77520ef2e2c2",
   "metadata": {},
   "outputs": [],
   "source": [
    "# 1. Genereer een lijst met functionele lampen (hoeveel?)\n",
    "# 2. Vul de lijst aan met defecte lampen (hoeveel?)\n",
    "\n",
    "# ..."
   ]
  },
  {
   "cell_type": "markdown",
   "id": "37923139-5fbd-4575-ab9b-72ad309b50be",
   "metadata": {},
   "source": [
    "- Als bovenstaande niet lukt dan zal het implementeren ook niet lukken...\n",
    "- Vraag om hulp, maar oefen eerst met het uitwerken van een oplossing"
   ]
  },
  {
   "cell_type": "markdown",
   "id": "03440dea-9b95-4b92-9d89-8385dbad8ebe",
   "metadata": {},
   "source": [
    "## Implementeren"
   ]
  },
  {
   "cell_type": "markdown",
   "id": "41d28061-7872-4a91-8296-f1ef4302e695",
   "metadata": {},
   "source": [
    "- Werk de bovenstaande schets stap voor stap uit\n",
    "- Begin pas met implementeren als de schets klopt"
   ]
  },
  {
   "cell_type": "code",
   "execution_count": null,
   "id": "ac97b428-2e7f-4088-a0c1-a83f619802e0",
   "metadata": {},
   "outputs": [],
   "source": [
    "# bereken het totaal aantal defecten lampen: 2% van 75.000 = 1500\n",
    "# bereken de procentuele verhouding van het aantal defecten lampen dat nodig is. \n",
    "# Door de te het verlangen van het totaal aantal lampen verhoogt het percentage defecte lampen. Het aantal verlaagd dus de layer verhoogt.\n",
    "# Definer een werkenden lamp en een defecte lamp. \n",
    "# brandend = 1\n",
    "# defect = 0\n",
    "# Maak een functie dat BRANDED of DEFECT bepaald\n",
    "# -aan/uitschakelaar, maak een loop die 25 random lampen simuleert\n",
    "# bepaal of de lamp brand of niet (defect is)\n",
    "# maak een lijst waarin het resultaat wordt aangeduid\n",
    "# herhaal deze simulatie nog 9x en voeg de resultaten toe. \n",
    "# Confronteer de data naar een document. "
   ]
  },
  {
   "cell_type": "code",
   "execution_count": 2,
   "id": "2464c22a-4228-4174-9c9d-4d4f7f9a83b5",
   "metadata": {},
   "outputs": [],
   "source": [
    "from random import random\n",
    "import pandas as pd\n",
    "import os\n",
    "\n",
    "import matplotlib.pyplot as plt\n",
    "import numpy as np"
   ]
  },
  {
   "cell_type": "code",
   "execution_count": 3,
   "id": "e2fc01e5-4e20-4cf5-ab41-792931af55b7",
   "metadata": {},
   "outputs": [],
   "source": [
    "#define lamp burning or defect\n",
    "burning = 1\n",
    "defect = 0\n",
    "\n",
    "def switch():\n",
    "    if random() < 0.02:\n",
    "        return defect\n",
    "    else:\n",
    "        return burning"
   ]
  },
  {
   "cell_type": "code",
   "execution_count": 28,
   "id": "f8c1393b-739d-401d-aadd-fc78fd8d2ac8",
   "metadata": {},
   "outputs": [
    {
     "name": "stdout",
     "output_type": "stream",
     "text": [
      "0 Checks per cycle\n",
      "10 Cycle\n",
      "249 burning\n",
      "1 defect\n"
     ]
    }
   ],
   "source": [
    "lampChecks = 0\n",
    "testCycle = 0\n",
    "\n",
    "burningCounter = 0\n",
    "defectCounter = 0\n",
    "\n",
    "while testCycle <=9:\n",
    "    while lampChecks <= 24:\n",
    "        burnOrNotBurn = switch()\n",
    "        if burnOrNotBurn == burning:\n",
    "            burningCounter +=1\n",
    "        else:\n",
    "            defectCounter +=1   \n",
    "        lampChecks +=1\n",
    "    lampChecks = 0    \n",
    "    testCycle +=1\n",
    "    \n",
    "    \n",
    "print(lampChecks, 'Checks per cycle')\n",
    "print(testCycle, 'Cycle')\n",
    "print(burningCounter, 'burning')\n",
    "print(defectCounter, 'defect')\n",
    "\n",
    "\n"
   ]
  },
  {
   "cell_type": "code",
   "execution_count": null,
   "id": "4c6d01b5-f45c-42ae-8381-cf0e0adcd677",
   "metadata": {},
   "outputs": [],
   "source": []
  }
 ],
 "metadata": {
  "kernelspec": {
   "display_name": "Python 3 (ipykernel)",
   "language": "python",
   "name": "python3"
  },
  "language_info": {
   "codemirror_mode": {
    "name": "ipython",
    "version": 3
   },
   "file_extension": ".py",
   "mimetype": "text/x-python",
   "name": "python",
   "nbconvert_exporter": "python",
   "pygments_lexer": "ipython3",
   "version": "3.9.12"
  },
  "toc-showcode": false,
  "toc-showmarkdowntxt": false
 },
 "nbformat": 4,
 "nbformat_minor": 5
}
