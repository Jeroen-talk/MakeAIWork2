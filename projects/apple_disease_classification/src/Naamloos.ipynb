{
 "cells": [
  {
   "cell_type": "code",
   "execution_count": 23,
   "id": "5ea1a10f-99b9-4de4-b00d-6bff70030944",
   "metadata": {},
   "outputs": [
    {
     "data": {
      "text/plain": [
       "'\\ninstall pip install opencv-python\\n'"
      ]
     },
     "execution_count": 23,
     "metadata": {},
     "output_type": "execute_result"
    }
   ],
   "source": [
    "'''\n",
    "install pip install opencv-python\n",
    "'''"
   ]
  },
  {
   "cell_type": "code",
   "execution_count": 24,
   "id": "150ddd28-e9ac-424f-88b5-7e77f380ae4c",
   "metadata": {},
   "outputs": [],
   "source": [
    "import cv2\n",
    "import os"
   ]
  },
  {
   "cell_type": "code",
   "execution_count": 25,
   "id": "1a362c77-462b-4682-9ed7-eb519e264725",
   "metadata": {},
   "outputs": [],
   "source": [
    "path = r\"projects/apple_disease_classification/data/Train/Normal_Apple\""
   ]
  },
  {
   "cell_type": "code",
   "execution_count": 32,
   "id": "f9c3030d-73f6-4455-afec-752ff4670bbe",
   "metadata": {},
   "outputs": [],
   "source": [
    "def path_(path):\n",
    "\n",
    "    images = []\n",
    "\n",
    "    for filename in os.listdir(path):\n",
    "\n",
    "        img = cv2.imread(os.path.join(path, filename))\n",
    "\n",
    "        if img is not None:\n",
    "\n",
    "            images.append(img)\n",
    "\n",
    "    print(len(images))\n",
    "\n",
    "    return images\n",
    "    path_(path)\n",
    "    \n",
    "    "
   ]
  },
  {
   "cell_type": "code",
   "execution_count": null,
   "id": "7b0eb38d-5fd8-41be-b980-f75c559d9735",
   "metadata": {},
   "outputs": [],
   "source": []
  }
 ],
 "metadata": {
  "kernelspec": {
   "display_name": "Python 3 (ipykernel)",
   "language": "python",
   "name": "python3"
  },
  "language_info": {
   "codemirror_mode": {
    "name": "ipython",
    "version": 3
   },
   "file_extension": ".py",
   "mimetype": "text/x-python",
   "name": "python",
   "nbconvert_exporter": "python",
   "pygments_lexer": "ipython3",
   "version": "3.9.12"
  }
 },
 "nbformat": 4,
 "nbformat_minor": 5
}
