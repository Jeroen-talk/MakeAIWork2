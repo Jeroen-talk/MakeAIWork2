{
 "cells": [
  {
   "cell_type": "code",
   "execution_count": null,
   "id": "f7005681-7657-45e5-94fc-96f87baad6b3",
   "metadata": {},
   "outputs": [],
   "source": [
    "%load_ext tensorboard"
   ]
  },
  {
   "cell_type": "code",
   "execution_count": 4,
   "id": "c4e76f3c-458f-4073-bc9c-23f52781ad49",
   "metadata": {},
   "outputs": [],
   "source": [
    "from PIL import Image\n",
    "import io\n",
    "import matplotlib.pyplot as plt\n",
    "import matplotlib.image as mpimg\n",
    "import numpy as np\n",
    "import os\n",
    "from sklearn.model_selection import train_test_split\n",
    "import random\n",
    "import requests\n",
    "import scipy as sp\n",
    "import tensorflow as tf\n",
    "import tensorflow.keras as keras\n",
    "import zipfile\n",
    "import pathlib\n",
    "\n",
    "import pandas as pd\n",
    "import numpy as np\n",
    "\n",
    "from tensorflow import keras\n",
    "from tensorflow.keras import layers\n",
    "from tensorflow.keras.models import Sequential\n",
    "import datetime"
   ]
  },
  {
   "cell_type": "code",
   "execution_count": 5,
   "id": "dc0817bf-2793-4182-9f1c-f1552edce7a4",
   "metadata": {},
   "outputs": [],
   "source": [
    "os.environ['TF_CPP_MIN_LEVEL'] = '0'\n",
    "np.set_printoptions(precision=3, suppress=True)\n",
    "# stops the plt warnings\n",
    "tf.get_logger().setLevel('ERROR')"
   ]
  },
  {
   "cell_type": "code",
   "execution_count": 8,
   "id": "bf4e2d23-907a-4240-aabb-3a3dcd6b0a60",
   "metadata": {},
   "outputs": [],
   "source": [
    "\n",
    "test_data_dir = '../data/Test'\n",
    "appleDirectory = '../data/Train'\n",
    "data_dir = pathlib.Path(appleDirectory)\n",
    "edgeFiles = list()\n",
    "\n",
    "for filename in os.listdir(appleDirectory):\n",
    "    imgAppleDirectory = os.path.join(appleDirectory, filename)\n",
    "    edgeFiles.append(imgAppleDirectory)\n",
    "    # print(edgeFiles)"
   ]
  },
  {
   "cell_type": "code",
   "execution_count": 11,
   "id": "4f9cabd0-93ef-483b-ae94-40be45c1048b",
   "metadata": {},
   "outputs": [],
   "source": [
    "edgeFiles = [img for img in edgeFiles if \".jpg\" in img]\n",
    "# print(type(edgeFiles))\n",
    "# print(edgeFiles[0])"
   ]
  },
  {
   "cell_type": "code",
   "execution_count": 12,
   "id": "a6e31f5c-01ec-4197-a475-8c1af47c4a6d",
   "metadata": {},
   "outputs": [],
   "source": [
    "batch_size = 32\n",
    "img_height = 360\n",
    "img_width = 360"
   ]
  },
  {
   "cell_type": "code",
   "execution_count": 14,
   "id": "9e57ce8a-e6d4-45cb-b2d7-b9a76cbc70ab",
   "metadata": {},
   "outputs": [
    {
     "name": "stdout",
     "output_type": "stream",
     "text": [
      "Found 383 files belonging to 4 classes.\n",
      "Using 307 files for training.\n"
     ]
    }
   ],
   "source": [
    "train_ds = tf.keras.utils.image_dataset_from_directory(\n",
    "  data_dir,\n",
    "  validation_split=0.2,\n",
    "  subset=\"training\",\n",
    "  seed=123,\n",
    "  image_size=(img_height, img_width),\n",
    "  batch_size=batch_size)"
   ]
  },
  {
   "cell_type": "code",
   "execution_count": 15,
   "id": "cbb4b46d-4ed6-4c72-8e9f-59ca29d84d54",
   "metadata": {},
   "outputs": [
    {
     "name": "stdout",
     "output_type": "stream",
     "text": [
      "Found 383 files belonging to 4 classes.\n",
      "Using 76 files for validation.\n"
     ]
    }
   ],
   "source": [
    "val_ds = tf.keras.utils.image_dataset_from_directory(\n",
    "  data_dir,\n",
    "  validation_split=0.2,\n",
    "  subset=\"validation\",\n",
    "  seed=123,\n",
    "  image_size=(img_height, img_width),\n",
    "  batch_size=batch_size)"
   ]
  },
  {
   "cell_type": "code",
   "execution_count": 16,
   "id": "a6321f3e-2236-40f9-873f-e10616b281ab",
   "metadata": {},
   "outputs": [
    {
     "name": "stdout",
     "output_type": "stream",
     "text": [
      "Found 120 files belonging to 4 classes.\n"
     ]
    }
   ],
   "source": [
    "test_ds = tf.keras.utils.image_dataset_from_directory(\n",
    "  test_data_dir,\n",
    "  seed=123,\n",
    "  image_size=(img_height, img_width),\n",
    "  batch_size=batch_size)"
   ]
  },
  {
   "cell_type": "code",
   "execution_count": null,
   "id": "caad1295-41b4-422d-af14-703c69853d25",
   "metadata": {},
   "outputs": [],
   "source": [
    "class_names = train_ds.class_names\n",
    "test_label = test_ds.class_names"
   ]
  },
  {
   "cell_type": "code",
   "execution_count": null,
   "id": "f18fb4b5-c4da-46f3-8b80-64cf3a3cde40",
   "metadata": {},
   "outputs": [],
   "source": [
    "# augmentation toegevoegen\n",
    "data_augmentation = keras.Sequential([\n",
    "  layers.RandomFlip(\"horizontal_and_vertical\", input_shape=(img_height, img_width,3)),\n",
    "  layers.RandomRotation(45.5),\n",
    "])"
   ]
  },
  {
   "cell_type": "code",
   "execution_count": null,
   "id": "e294848f-de77-4988-9830-21e4cb8ea472",
   "metadata": {},
   "outputs": [],
   "source": [
    "# augmentation toegevoegen\n",
    "image, label = next(iter(train_ds))"
   ]
  },
  {
   "cell_type": "code",
   "execution_count": null,
   "id": "ac386f9d-f370-4dae-857a-fda2da0ec06d",
   "metadata": {},
   "outputs": [],
   "source": [
    "# augmentation toegevoegen\n",
    "image = tf.cast(tf.expand_dims(image, 0), tf.float32)"
   ]
  },
  {
   "cell_type": "code",
   "execution_count": null,
   "id": "d7fa7f4c-1af8-407b-aa44-feb6c847ef11",
   "metadata": {},
   "outputs": [],
   "source": [
    "plt.figure(figsize=(10, 10))\n",
    "for images, labels in train_ds.take(1):\n",
    "    for i in range(16):\n",
    "        augmented_image = data_augmentation(images, training = True)\n",
    "        ax = plt.subplot(4, 4, i + 1)\n",
    "        plt.imshow(augmented_image[i].numpy().astype(\"uint8\"))\n",
    "        plt.title(class_names[labels[i]])\n",
    "        plt.axis(\"off\")"
   ]
  },
  {
   "cell_type": "code",
   "execution_count": null,
   "id": "cc43a712-b875-4aff-8d12-919b1dd2853f",
   "metadata": {},
   "outputs": [],
   "source": []
  },
  {
   "cell_type": "code",
   "execution_count": null,
   "id": "38cad176-0547-42ed-978f-c363bd1a9d43",
   "metadata": {},
   "outputs": [],
   "source": [
    "num_classes = len(class_names)\n",
    "\n",
    "model = Sequential([\n",
    "  data_augmentation,\n",
    "  layers.Rescaling(1./255, input_shape=(img_height, img_width, 3)),\n",
    "  layers.Conv2D(128, 3, padding='same', activation='relu'),\n",
    "  layers.MaxPooling2D(),\n",
    "  layers.Conv2D(64, 3, padding='same', activation='relu'),\n",
    "  layers.MaxPooling2D(),\n",
    "  layers.Conv2D(32, 3, padding='same', activation='relu'),\n",
    "  layers.MaxPooling2D(),\n",
    "  layers.Conv2D(32, 3, padding='same', activation='relu'),\n",
    "  layers.MaxPooling2D(),\n",
    "  layers.Conv2D(16, 3, padding='same', activation='relu'),\n",
    "  layers.MaxPooling2D(),\n",
    "  layers.Dropout(rate=0.2 ),  \n",
    "  layers.Flatten(),\n",
    "  layers.Dense(128, activation='relu'),\n",
    "  layers.Dense(64, activation='relu'),\n",
    "  layers.Dense(4, activation='softmax'),\n",
    "  layers.Dense(num_classes)\n",
    "])"
   ]
  },
  {
   "cell_type": "code",
   "execution_count": null,
   "id": "2a8e0b3c-76b1-4f5f-808c-713b2736e4e6",
   "metadata": {},
   "outputs": [],
   "source": [
    "model.compile(optimizer='adam',\n",
    "              loss=tf.keras.losses.SparseCategoricalCrossentropy(from_logits=True),\n",
    "              metrics=['accuracy'])"
   ]
  },
  {
   "cell_type": "code",
   "execution_count": null,
   "id": "476e6e35-edd6-4e5d-81e2-ca2bcdb2e100",
   "metadata": {},
   "outputs": [],
   "source": [
    "log_dir = \"logs/fit/\" + datetime.datetime.now().strftime(\"%Y%m%d-%H%M%S\")\n",
    "tensorboard_callback = tf.keras.callbacks.TensorBoard(log_dir=log_dir, histogram_freq=1)\n",
    "callbackEarly = tf.keras.callbacks.EarlyStopping(monitor='loss', patience=3)"
   ]
  },
  {
   "cell_type": "code",
   "execution_count": null,
   "id": "7bbc1994-2106-4831-ba54-1a23fa716954",
   "metadata": {},
   "outputs": [],
   "source": [
    "model.summary()"
   ]
  },
  {
   "cell_type": "code",
   "execution_count": null,
   "id": "3718b5ef-7e9d-4d05-ab2e-961513033462",
   "metadata": {},
   "outputs": [],
   "source": [
    "epochs=35\n",
    "history = model.fit(\n",
    "  train_ds,\n",
    "  validation_data=val_ds,\n",
    "  epochs=epochs,\n",
    "  callbacks=[tensorboard_callback, callbackEarly]\n",
    ")"
   ]
  },
  {
   "cell_type": "code",
   "execution_count": null,
   "id": "97c992c5-f8ec-4da9-ba30-af51161d3ff1",
   "metadata": {},
   "outputs": [],
   "source": [
    "# Tensorboard\n",
    "log_dir = \"logs/fit\" + datetime.datetime.now().strftime(\"%Y%m%d-%H%M%S\")\n",
    "tensorboard_callback = tf.keras.callbacks.TensorBoard(log_dir=log_dir, histogram_freq=1)"
   ]
  },
  {
   "cell_type": "code",
   "execution_count": null,
   "id": "80c9f162-2161-4650-b573-9a34c4016719",
   "metadata": {},
   "outputs": [],
   "source": [
    "from keras.models import load_model\n",
    "model.save('saved_models/appleModel11.h5')"
   ]
  },
  {
   "cell_type": "code",
   "execution_count": null,
   "id": "ba9153bb-451b-48dd-9ad0-4206b4f00fa4",
   "metadata": {},
   "outputs": [],
   "source": [
    "acc = history.history['accuracy']\n",
    "val_acc = history.history['val_accuracy']\n",
    "\n",
    "loss = history.history['loss']\n",
    "val_loss = history.history['val_loss']\n",
    "\n",
    "plt.figure(figsize=(34, 8))\n",
    "plt.subplot(1, 2, 1)\n",
    "plt.plot(acc, label='Training Accuracy')\n",
    "plt.plot(val_acc, label='Validation Accuracy')\n",
    "plt.legend(loc='lower right')\n",
    "plt.title('Training and Validation Accuracy')\n",
    "\n",
    "plt.subplot(1, 2, 2)\n",
    "plt.plot(loss, label='Training Loss')\n",
    "plt.plot(val_loss, label='Validation Loss')\n",
    "plt.legend(loc='upper right')\n",
    "plt.title('Training and Validation Loss')\n",
    "plt.savefig('saved_models/appleModel_11.png')\n",
    "plt.show()\n"
   ]
  },
  {
   "cell_type": "code",
   "execution_count": null,
   "id": "3ddd2f29-fcc2-48f6-b0f8-16a832ec5045",
   "metadata": {},
   "outputs": [],
   "source": []
  },
  {
   "cell_type": "code",
   "execution_count": null,
   "id": "2761c270-4fcc-47d1-b017-a115555fd71c",
   "metadata": {},
   "outputs": [],
   "source": [
    "# confusion matrix\n",
    "\n",
    "from sklearn.metrics import confusion_matrix\n",
    "from sklearn.metrics import ConfusionMatrixDisplay\n",
    "\n",
    "batchPredictions = model.predict(test_ds)\n",
    "predicted_categories = tf.argmax(batchPredictions, axis=1)\n",
    "true_categories = tf.concat([y for x, y in test_ds], axis=0)\n",
    "\n",
    "# confusion_matrix(predicted_categories, true_categories)\n",
    "\n",
    "confusion_matrix = confusion_matrix(true_categories, predicted_categories)\n",
    "cm_display = ConfusionMatrixDisplay(confusion_matrix = confusion_matrix,display_labels = ['Blotch_Apple', 'Normal_Apple', 'Rot_Apple', 'Scab_Apple'])\n",
    "\n",
    "cm_display.plot()\n",
    "plt.savefig('saved_models/appleMatrix_11.png')\n",
    "plt.show()\n"
   ]
  },
  {
   "cell_type": "code",
   "execution_count": null,
   "id": "c850d95c-1221-4bd7-8d0e-4e68097e8366",
   "metadata": {},
   "outputs": [],
   "source": [
    "%tensorboard --logdir logs/\n",
    "\n"
   ]
  },
  {
   "cell_type": "code",
   "execution_count": null,
   "id": "cb791e1e-da02-4cfd-90cc-7115592206ea",
   "metadata": {},
   "outputs": [],
   "source": []
  }
 ],
 "metadata": {
  "kernelspec": {
   "display_name": "Python 3 (ipykernel)",
   "language": "python",
   "name": "python3"
  },
  "language_info": {
   "codemirror_mode": {
    "name": "ipython",
    "version": 3
   },
   "file_extension": ".py",
   "mimetype": "text/x-python",
   "name": "python",
   "nbconvert_exporter": "python",
   "pygments_lexer": "ipython3",
   "version": "3.9.12"
  }
 },
 "nbformat": 4,
 "nbformat_minor": 5
}
