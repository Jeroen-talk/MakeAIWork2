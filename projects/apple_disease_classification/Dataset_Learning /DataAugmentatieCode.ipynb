{
 "cells": [
  {
   "cell_type": "markdown",
   "metadata": {},
   "source": [
    "Data augmentatie: \n",
    "\n",
    "Data verdeeld in 4 klassen eindoel is 1000 per klasse om op te trainen,\n",
    "Huidige traindataset = \n",
    "    gezond : 67\n",
    "    blotch : 116\n",
    "    scab : 85\n",
    "    rot : 114\n",
    "Huidige Testdataset = \n",
    "    gezond : 24\n",
    "    blotch : 30\n",
    "    scab : 28\n",
    "    rot : 38"
   ]
  },
  {
   "cell_type": "code",
   "execution_count": null,
   "metadata": {},
   "outputs": [],
   "source": [
    "# data inladen (pandas)\n",
    "\n"
   ]
  },
  {
   "cell_type": "markdown",
   "metadata": {},
   "source": [
    "Kwart slag draaien 3x voor elke foto => aantal x3"
   ]
  },
  {
   "cell_type": "code",
   "execution_count": null,
   "metadata": {},
   "outputs": [],
   "source": []
  },
  {
   "cell_type": "markdown",
   "metadata": {},
   "source": [
    "ooooofff 4x per foto en dan random rotatie toepassen..."
   ]
  },
  {
   "cell_type": "code",
   "execution_count": null,
   "metadata": {},
   "outputs": [],
   "source": []
  },
  {
   "cell_type": "markdown",
   "metadata": {},
   "source": [
    "verticale spiegeling => aantal x1"
   ]
  },
  {
   "cell_type": "code",
   "execution_count": null,
   "metadata": {},
   "outputs": [],
   "source": []
  },
  {
   "cell_type": "markdown",
   "metadata": {},
   "source": [
    "Grijsschaal versie v/d foto => aantal x1\n",
    "    Dit is gewoon de (x,y,z) z dimensie van 3 naar 1 veranderen (delen duuuuhsch)"
   ]
  },
  {
   "cell_type": "code",
   "execution_count": null,
   "metadata": {},
   "outputs": [],
   "source": []
  },
  {
   "cell_type": "markdown",
   "metadata": {},
   "source": [
    "Poster kleuren (elementair) => aantal x1"
   ]
  },
  {
   "cell_type": "code",
   "execution_count": null,
   "metadata": {},
   "outputs": [],
   "source": []
  },
  {
   "cell_type": "markdown",
   "metadata": {},
   "source": [
    "Duo tone (van pinetools, bulk versies) aantal x1\n"
   ]
  },
  {
   "cell_type": "code",
   "execution_count": null,
   "metadata": {},
   "outputs": [],
   "source": []
  },
  {
   "cell_type": "markdown",
   "metadata": {},
   "source": [
    "tri/quad tone?"
   ]
  },
  {
   "cell_type": "code",
   "execution_count": null,
   "metadata": {},
   "outputs": [],
   "source": [
    "# https://imgaug.readthedocs.io/en/latest/source/overview/color.html#kmeanscolorquantization\n"
   ]
  },
  {
   "cell_type": "code",
   "execution_count": 37,
   "metadata": {},
   "outputs": [
    {
     "data": {
      "text/plain": [
       "[7]"
      ]
     },
     "execution_count": 37,
     "metadata": {},
     "output_type": "execute_result"
    }
   ],
   "source": [
    "import random\n",
    "txtFilesSel = []\n",
    "#imgObjectSel = np.empty(),\n",
    "\n",
    "blah = [0,1,2,3,4,5,6,7,8,9]\n",
    "\n",
    "\n",
    "random.sample(sorted(blah),1)\n",
    "\n",
    "# indexRanges = [(0,888),(888,1360),(1360,2272),(2272,2949)]\n",
    "# print(indexRanges[0])\n",
    "\n",
    "# random.sample(indexRanges, 1, 1)\n",
    "\n",
    "# for indexR in indexRanges:\n",
    "#     randomIndex = random.sample(10,10,470)\n",
    "#     txtFilesSel.append(txtFiles[randomIndex])\n",
    "#     imgObjectSel.append(imgObjects[randomIndex])\n",
    "#     print(randomIndex)\n",
    "\n",
    "# for number in range(470):\n",
    "#     txtFilesSel.append(txtFiles[random.choice(range(888,))])\n",
    "#     imgObjectSel.append(imageObjects[random.choice(range(888,888))])\n",
    "    \n",
    "\n",
    "# for number in range(470):\n",
    "#     txtFilesSel.append(txtFiles[random.choice(range(0,888))])\n",
    "    \n",
    "\n",
    "# for number in range(470):\n",
    "#     txtFilesSel.append(txtFiles[random.choice(range(0,888))])\n"
   ]
  },
  {
   "cell_type": "code",
   "execution_count": null,
   "metadata": {},
   "outputs": [],
   "source": [
    "for occurance in lijstmetlabels:\n",
    "    "
   ]
  },
  {
   "cell_type": "markdown",
   "metadata": {},
   "source": [
    "Saturation?"
   ]
  },
  {
   "cell_type": "markdown",
   "metadata": {},
   "source": [
    "\n",
    "Poster?"
   ]
  },
  {
   "cell_type": "markdown",
   "metadata": {},
   "source": [
    "K-means\n",
    "https://imgaug.readthedocs.io/en/latest/source/overview/color.html#kmeanscolorquantization"
   ]
  },
  {
   "cell_type": "code",
   "execution_count": null,
   "metadata": {},
   "outputs": [],
   "source": []
  },
  {
   "cell_type": "code",
   "execution_count": null,
   "metadata": {},
   "outputs": [],
   "source": []
  },
  {
   "cell_type": "code",
   "execution_count": null,
   "metadata": {},
   "outputs": [],
   "source": []
  }
 ],
 "metadata": {
  "kernelspec": {
   "display_name": "Python 3 (ipykernel)",
   "language": "python",
   "name": "python3"
  },
  "language_info": {
   "codemirror_mode": {
    "name": "ipython",
    "version": 3
   },
   "file_extension": ".py",
   "mimetype": "text/x-python",
   "name": "python",
   "nbconvert_exporter": "python",
   "pygments_lexer": "ipython3",
   "version": "3.9.12"
  },
  "vscode": {
   "interpreter": {
    "hash": "ad2bdc8ecc057115af97d19610ffacc2b4e99fae6737bb82f5d7fb13d2f2c186"
   }
  }
 },
 "nbformat": 4,
 "nbformat_minor": 4
}
