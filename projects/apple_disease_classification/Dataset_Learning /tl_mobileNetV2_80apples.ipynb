{
 "cells": [
  {
   "cell_type": "markdown",
   "id": "b5975a85-b424-458e-87a1-a861324fa043",
   "metadata": {},
   "source": [
    "<h4>Tranfer Learning</h4>\n",
    "\n",
    "<p> Zie <a href=\"https://www.tensorflow.org/tutorials/images/transfer_learning\">LINK</a> voor transfer learning op Tensorflow."
   ]
  },
  {
   "cell_type": "code",
   "execution_count": 262,
   "id": "1dc9f91f-50bf-4fb1-a505-99d2a5a44a86",
   "metadata": {},
   "outputs": [
    {
     "name": "stdout",
     "output_type": "stream",
     "text": [
      "The tensorboard extension is already loaded. To reload it, use:\n",
      "  %reload_ext tensorboard\n"
     ]
    }
   ],
   "source": [
    "# load Tensorboard\n",
    "%load_ext tensorboard"
   ]
  },
  {
   "cell_type": "code",
   "execution_count": 263,
   "id": "f44db172-8e83-4d7b-931a-219f9f4915d3",
   "metadata": {},
   "outputs": [],
   "source": [
    "import tensorflow as tf\n",
    "from tensorflow import keras\n",
    "from tensorflow.keras import layers\n",
    "from tensorflow.keras.models import Sequential\n",
    "from tensorflow.keras.layers import Dense, Conv2D, MaxPooling2D, AvgPool2D, Input, Dropout, Flatten, BatchNormalization\n",
    "import numpy as np\n",
    "import matplotlib.pyplot as plt\n",
    "import pandas as pd\n",
    "import pathlib\n",
    "import os\n",
    "import datetime"
   ]
  },
  {
   "cell_type": "code",
   "execution_count": 264,
   "id": "927cefa0-e379-485e-b208-c03385ab55fb",
   "metadata": {},
   "outputs": [],
   "source": [
    "# Opzet datum voor het opslaan van een bestand.\n",
    "from datetime import datetime \n",
    "now = datetime.now()\n",
    "\n",
    "# dd/mm/YY\n",
    "time_save = now.strftime(\"%Hh%M\")\n",
    "dt_save = now.strftime(\"%d%m%Y\")\n",
    "# print(\"ddmmyyyy =\", dt_save)\n",
    "# print(\"HMS =\", time_save)\n",
    "\n",
    "# folder path to save model \n",
    "sp_model = r'saved_models/tl_mobileNetV2_2/model/'\n",
    "sc_model = 0\n",
    "# Iterate directory\n",
    "for path in os.listdir(sp_model):\n",
    "    # check if current path is a file\n",
    "    if os.path.isfile(os.path.join(sp_model, path)):\n",
    "        sc_model += 1\n",
    "# print('File count:', sc_model)"
   ]
  },
  {
   "cell_type": "markdown",
   "id": "999b1b79-1571-403e-bb32-14cddd084ff0",
   "metadata": {},
   "source": [
    "<h4>Warning blokker</h4>\n",
    "<p>De lagen in een model geven een warning. De code hieronder blokced het tonen hiervan.</p>    \n",
    "    "
   ]
  },
  {
   "cell_type": "code",
   "execution_count": 265,
   "id": "515e6177-4a2f-4f94-a69b-83666d75e720",
   "metadata": {},
   "outputs": [],
   "source": [
    "tf.get_logger().setLevel('ERROR')"
   ]
  },
  {
   "cell_type": "code",
   "execution_count": 266,
   "id": "61876954-e314-40d4-b4c5-9117b1c50c26",
   "metadata": {},
   "outputs": [],
   "source": [
    "# load dataset \n",
    "\n",
    "test_data_dir = '../data/Test'\n",
    "train_data_dir = '../data/Train'\n",
    "apples_data_dir = '../data/80apples'\n",
    "\n",
    "\n",
    "data_dir = pathlib.Path(train_data_dir)\n",
    "test_dir = pathlib.Path(test_data_dir)\n",
    "apples_dir = pathlib.Path(apples_data_dir)\n",
    "applesFiles = list()\n",
    "edgeFiles = list()\n",
    "testFiles = list()\n",
    "\n",
    "for filename in os.listdir(train_data_dir):\n",
    "    imgAppleDirectory = os.path.join(train_data_dir, filename)\n",
    "    edgeFiles.append(imgAppleDirectory)\n",
    "    # print(edgeFiles)\n",
    "    \n",
    "for filename in os.listdir(test_data_dir):\n",
    "    imgAppleTestDirectory = os.path.join(test_data_dir, filename)\n",
    "    testFiles.append(imgAppleTestDirectory) \n",
    "    # print(testFiles)\n",
    "    \n",
    "for filename in os.listdir(apples_data_dir):\n",
    "    appleDirectory = os.path.join(apples_data_dir)\n",
    "    applesFiles.append(appleDirectory) \n",
    "    # print(applesFiles)    "
   ]
  },
  {
   "cell_type": "code",
   "execution_count": 267,
   "id": "ec8d9d03-b3e8-48a8-b324-6025e7265564",
   "metadata": {},
   "outputs": [],
   "source": [
    "batch_size = 16\n",
    "img_size= (224, 224)"
   ]
  },
  {
   "cell_type": "code",
   "execution_count": 268,
   "id": "d80da775-4f12-4b5d-a71b-ce3813d14eaf",
   "metadata": {},
   "outputs": [
    {
     "name": "stdout",
     "output_type": "stream",
     "text": [
      "Found 383 files belonging to 4 classes.\n",
      "Using 307 files for training.\n"
     ]
    }
   ],
   "source": [
    "train_ds = tf.keras.utils.image_dataset_from_directory(\n",
    "  data_dir,\n",
    "  validation_split=0.2,\n",
    "  subset=\"training\",\n",
    "  seed=123,\n",
    "  image_size=img_size,\n",
    "  batch_size=batch_size)"
   ]
  },
  {
   "cell_type": "code",
   "execution_count": 269,
   "id": "b0180994-4829-4062-a37d-9ff118d755e9",
   "metadata": {},
   "outputs": [
    {
     "name": "stdout",
     "output_type": "stream",
     "text": [
      "Found 383 files belonging to 4 classes.\n",
      "Using 76 files for validation.\n"
     ]
    }
   ],
   "source": [
    "val_ds = tf.keras.utils.image_dataset_from_directory(\n",
    "  data_dir,\n",
    "  validation_split=0.2,\n",
    "  subset=\"validation\",\n",
    "  seed=123,\n",
    "  image_size=img_size,\n",
    "  batch_size=batch_size)"
   ]
  },
  {
   "cell_type": "code",
   "execution_count": 270,
   "id": "8fada6ad-4a17-4efd-8a6c-3f77ff75fbea",
   "metadata": {},
   "outputs": [
    {
     "name": "stdout",
     "output_type": "stream",
     "text": [
      "Found 120 files belonging to 4 classes.\n"
     ]
    }
   ],
   "source": [
    "# Test set \n",
    "\n",
    "test_ds = tf.keras.utils.image_dataset_from_directory(\n",
    "  test_dir,\n",
    "  seed=123,\n",
    "  shuffle=False,\n",
    "  image_size=img_size,\n",
    "  batch_size=batch_size)"
   ]
  },
  {
   "cell_type": "code",
   "execution_count": 271,
   "id": "02f5dd34-1499-4f3a-9bfe-07c23e663d17",
   "metadata": {},
   "outputs": [
    {
     "name": "stdout",
     "output_type": "stream",
     "text": [
      "Found 79 files belonging to 1 classes.\n"
     ]
    }
   ],
   "source": [
    "apples_ds = tf.keras.utils.image_dataset_from_directory(\n",
    "  apples_dir,\n",
    "  seed=123,\n",
    "  shuffle=False,\n",
    "  image_size=img_size,\n",
    "  batch_size=batch_size)"
   ]
  },
  {
   "cell_type": "code",
   "execution_count": 272,
   "id": "18c2366e-c73d-4199-bd11-a7909a011965",
   "metadata": {},
   "outputs": [],
   "source": [
    "class_names = train_ds.class_names\n",
    "\n",
    "# plt.figure(figsize=(10, 10))\n",
    "# for images, labels in train_ds.take(1):\n",
    "#   for i in range(16):\n",
    "#     ax = plt.subplot(4, 4, i + 1)\n",
    "#     plt.imshow(images[i].numpy().astype(\"uint8\"))\n",
    "#     plt.title(class_names[labels[i]])\n",
    "#     plt.axis(\"off\")"
   ]
  },
  {
   "cell_type": "code",
   "execution_count": 273,
   "id": "b1a16d06-7e49-42ee-aeba-b268d2480b7b",
   "metadata": {},
   "outputs": [],
   "source": [
    "# confic dataset for performence \n",
    "AUTOTUNE = tf.data.AUTOTUNE\n",
    "\n",
    "train_ds = train_ds.prefetch(buffer_size=AUTOTUNE)\n",
    "val_ds = val_ds.prefetch(buffer_size=AUTOTUNE)\n",
    "test_ds = test_ds.prefetch(buffer_size=AUTOTUNE)"
   ]
  },
  {
   "cell_type": "code",
   "execution_count": 274,
   "id": "109061f3-f3ca-47f5-af51-26dd433ca20d",
   "metadata": {},
   "outputs": [],
   "source": [
    "# add augmentation\n",
    "img_height = 224\n",
    "img_width = 224\n",
    "\n",
    "data_augmentation = tf.keras.Sequential([\n",
    "  layers.RandomFlip(\"horizontal_and_vertical\", input_shape=(img_height, img_width,3)),\n",
    "  layers.RandomRotation(45.5),\n",
    "  layers.RandomZoom(0.6),  \n",
    "])"
   ]
  },
  {
   "cell_type": "code",
   "execution_count": 275,
   "id": "dee27842-4dda-41da-9ddc-7777e8d2fa69",
   "metadata": {},
   "outputs": [],
   "source": [
    "# augmentation toegevoegen\n",
    "image, label = next(iter(train_ds))\n",
    "image = tf.cast(tf.expand_dims(image, 0), tf.float32)"
   ]
  },
  {
   "cell_type": "markdown",
   "id": "b91c1c50-0d6d-40b1-b946-e9190cd600a8",
   "metadata": {},
   "source": [
    "<h4>Base Mobel</h4>\n",
    "<p>Hier wordt het voorgetrainde model ingeladen</p>"
   ]
  },
  {
   "cell_type": "code",
   "execution_count": 276,
   "id": "b05c8cc9-1c31-403f-a613-98ce121dd46a",
   "metadata": {},
   "outputs": [],
   "source": [
    "preprocess_input = tf.keras.applications.mobilenet_v2.preprocess_input\n",
    "rescale = tf.keras.layers.Rescaling(1./127.5, offset=-1)"
   ]
  },
  {
   "cell_type": "code",
   "execution_count": 277,
   "id": "389c3625-78b8-49d8-bfdb-768d664e166e",
   "metadata": {},
   "outputs": [],
   "source": [
    "IMG_SHAPE = (224, 224, 3)\n",
    "base_model = tf.keras.applications.MobileNetV2(input_shape=IMG_SHAPE,\n",
    "                                               include_top=False,\n",
    "                                               weights='imagenet')"
   ]
  },
  {
   "cell_type": "code",
   "execution_count": 278,
   "id": "b236494e-e289-4bd9-914f-9680d4b9a9f3",
   "metadata": {},
   "outputs": [],
   "source": [
    "image_batch, label_batch =  next(iter(train_ds))\n",
    "feature_batch = base_model(image_batch)\n",
    "# print(feature_batch.shape)"
   ]
  },
  {
   "cell_type": "code",
   "execution_count": 279,
   "id": "38e071cf-d775-476f-9e18-e16f337b796f",
   "metadata": {},
   "outputs": [],
   "source": [
    "#Freeze the convolutional base\n",
    "base_model.trainable = False"
   ]
  },
  {
   "cell_type": "markdown",
   "id": "a87dc724-6df2-4520-ad54-ef1b1cf012db",
   "metadata": {},
   "source": [
    "<h4>Classification head</h4>"
   ]
  },
  {
   "cell_type": "code",
   "execution_count": 280,
   "id": "72d43375-e42c-4ec1-b300-1ff95bbc677b",
   "metadata": {},
   "outputs": [],
   "source": [
    "global_average_layer = tf.keras.layers.GlobalAveragePooling2D()\n",
    "feature_batch_average = global_average_layer(feature_batch)\n",
    "# print(feature_batch_average.shape)"
   ]
  },
  {
   "cell_type": "code",
   "execution_count": 281,
   "id": "eb2e12d7-122c-4ad6-ae34-810144972942",
   "metadata": {},
   "outputs": [],
   "source": [
    "prediction_layer = tf.keras.layers.Dense(4, activation = 'softmax')\n",
    "prediction_batch = prediction_layer(feature_batch_average)\n",
    "# print(prediction_batch.shape)"
   ]
  },
  {
   "cell_type": "code",
   "execution_count": 282,
   "id": "15244428-8d31-4709-8700-eae700c0d1c1",
   "metadata": {},
   "outputs": [],
   "source": [
    "#base model architecture\n",
    "# base_model.summary()"
   ]
  },
  {
   "cell_type": "code",
   "execution_count": 283,
   "id": "de766bba-ba22-4026-a219-27e20e843d93",
   "metadata": {},
   "outputs": [],
   "source": [
    "num_classes = 4\n",
    "inputs = tf.keras.Input(shape=(224, 224, 3))\n",
    "x = data_augmentation(inputs)\n",
    "x = preprocess_input(x)\n",
    "x = base_model(x, training=False)\n",
    "x = global_average_layer(x)\n",
    "x = tf.keras.layers.Dropout(0.5)(x)\n",
    "x = tf.keras.layers.Flatten()(x)\n",
    "outputs = prediction_layer(x)\n",
    "preds=Dense(num_classes, activation='softmax')(x)\n",
    "model = tf.keras.Model(inputs, outputs=preds)\n",
    "# keras.utils.plot_model(model, show_shapes=True)"
   ]
  },
  {
   "cell_type": "code",
   "execution_count": 284,
   "id": "6b283541-f168-48e3-86b1-ca9d90c50118",
   "metadata": {},
   "outputs": [
    {
     "name": "stdout",
     "output_type": "stream",
     "text": [
      "0 input_13\n",
      "1 sequential_4\n",
      "2 tf.math.truediv_7\n",
      "3 tf.math.subtract_7\n",
      "4 mobilenetv2_1.00_224\n",
      "5 global_average_pooling2d_4\n",
      "6 dropout_7\n",
      "7 flatten_7\n",
      "8 dense_12\n"
     ]
    }
   ],
   "source": [
    "for i,layer in enumerate(model.layers):\n",
    "    print(i,layer.name)"
   ]
  },
  {
   "cell_type": "markdown",
   "id": "4468b72b-6d64-40dc-b160-dd3f1c5c189c",
   "metadata": {},
   "source": [
    "<h4>Model</h4>"
   ]
  },
  {
   "cell_type": "code",
   "execution_count": 285,
   "id": "01ce291b-1e27-4cf8-bfd8-3aa74ecdf111",
   "metadata": {},
   "outputs": [],
   "source": [
    "base_learning_rate = 0.0001\n",
    "model.compile(optimizer=tf.keras.optimizers.Adam(learning_rate=base_learning_rate),\n",
    "              loss=tf.keras.losses.SparseCategoricalCrossentropy(from_logits=False),\n",
    "              metrics=['accuracy'])"
   ]
  },
  {
   "cell_type": "code",
   "execution_count": 286,
   "id": "888ff9b5-a183-466a-9dd9-bc0594ccf149",
   "metadata": {},
   "outputs": [],
   "source": [
    "# model.summary()"
   ]
  },
  {
   "cell_type": "code",
   "execution_count": 287,
   "id": "5887d6aa-83ab-4b1c-9f7d-e02e19e98024",
   "metadata": {},
   "outputs": [
    {
     "data": {
      "text/plain": [
       "2"
      ]
     },
     "execution_count": 287,
     "metadata": {},
     "output_type": "execute_result"
    }
   ],
   "source": [
    "len(model.trainable_variables)"
   ]
  },
  {
   "cell_type": "markdown",
   "id": "ed0f457b-eedd-4127-be23-b3a2e5b4ec18",
   "metadata": {},
   "source": [
    "<h4>Model Training</h4>"
   ]
  },
  {
   "cell_type": "code",
   "execution_count": 288,
   "id": "0a2084d9-54b9-4aef-a980-e565ab4e2e84",
   "metadata": {},
   "outputs": [
    {
     "name": "stdout",
     "output_type": "stream",
     "text": [
      "5/5 [==============================] - 3s 299ms/step - loss: 1.5776 - accuracy: 0.2632\n"
     ]
    }
   ],
   "source": [
    "initial_epochs = 25\n",
    "loss0, accuracy0 = model.evaluate(val_ds)"
   ]
  },
  {
   "cell_type": "code",
   "execution_count": 289,
   "id": "af97b6c2-6e4f-4e2b-9277-bbe96798e89a",
   "metadata": {},
   "outputs": [
    {
     "name": "stdout",
     "output_type": "stream",
     "text": [
      "initial loss: 1.58\n",
      "initial accuracy: 0.26\n"
     ]
    }
   ],
   "source": [
    "print(\"initial loss: {:.2f}\".format(loss0))\n",
    "print(\"initial accuracy: {:.2f}\".format(accuracy0))"
   ]
  },
  {
   "cell_type": "code",
   "execution_count": 290,
   "id": "872fcbed-f51a-46e5-9f16-5bdb99dd68ae",
   "metadata": {},
   "outputs": [],
   "source": [
    "# add Tensorboard\n",
    "log_dir = \"logs/fit\" + datetime.now().strftime(\"%Y%m%d-%H%M%S\")\n",
    "tensorboard_callback = tf.keras.callbacks.TensorBoard(log_dir=log_dir, histogram_freq=1)"
   ]
  },
  {
   "cell_type": "code",
   "execution_count": 291,
   "id": "9e909665-2a00-4750-a54d-aaa047abb8b5",
   "metadata": {},
   "outputs": [
    {
     "name": "stdout",
     "output_type": "stream",
     "text": [
      "Epoch 1/25\n",
      "20/20 [==============================] - 19s 652ms/step - loss: 1.7778 - accuracy: 0.3094 - val_loss: 1.4749 - val_accuracy: 0.3289\n",
      "Epoch 2/25\n",
      "20/20 [==============================] - 12s 600ms/step - loss: 1.7743 - accuracy: 0.2964 - val_loss: 1.4005 - val_accuracy: 0.3947\n",
      "Epoch 3/25\n",
      "20/20 [==============================] - 12s 581ms/step - loss: 1.7152 - accuracy: 0.3029 - val_loss: 1.3392 - val_accuracy: 0.4079\n",
      "Epoch 4/25\n",
      "20/20 [==============================] - 12s 584ms/step - loss: 1.6201 - accuracy: 0.3583 - val_loss: 1.2877 - val_accuracy: 0.4474\n",
      "Epoch 5/25\n",
      "20/20 [==============================] - 12s 585ms/step - loss: 1.4928 - accuracy: 0.3616 - val_loss: 1.2406 - val_accuracy: 0.4737\n",
      "Epoch 6/25\n",
      "20/20 [==============================] - 12s 604ms/step - loss: 1.4646 - accuracy: 0.3909 - val_loss: 1.1911 - val_accuracy: 0.5000\n",
      "Epoch 7/25\n",
      "20/20 [==============================] - 12s 577ms/step - loss: 1.3506 - accuracy: 0.4202 - val_loss: 1.1501 - val_accuracy: 0.5132\n",
      "Epoch 8/25\n",
      "20/20 [==============================] - 11s 564ms/step - loss: 1.3366 - accuracy: 0.4658 - val_loss: 1.1095 - val_accuracy: 0.5263\n",
      "Epoch 9/25\n",
      "20/20 [==============================] - 11s 543ms/step - loss: 1.3380 - accuracy: 0.4625 - val_loss: 1.0690 - val_accuracy: 0.5526\n",
      "Epoch 10/25\n",
      "20/20 [==============================] - 12s 588ms/step - loss: 1.2635 - accuracy: 0.4886 - val_loss: 1.0333 - val_accuracy: 0.6184\n",
      "Epoch 11/25\n",
      "20/20 [==============================] - 15s 744ms/step - loss: 1.3029 - accuracy: 0.4919 - val_loss: 1.0056 - val_accuracy: 0.6316\n",
      "Epoch 12/25\n",
      "20/20 [==============================] - 14s 707ms/step - loss: 1.2412 - accuracy: 0.4625 - val_loss: 0.9793 - val_accuracy: 0.6316\n",
      "Epoch 13/25\n",
      "20/20 [==============================] - 13s 645ms/step - loss: 1.1692 - accuracy: 0.5244 - val_loss: 0.9587 - val_accuracy: 0.6316\n",
      "Epoch 14/25\n",
      "20/20 [==============================] - 13s 645ms/step - loss: 1.1059 - accuracy: 0.5570 - val_loss: 0.9381 - val_accuracy: 0.6447\n",
      "Epoch 15/25\n",
      "20/20 [==============================] - 12s 586ms/step - loss: 1.0554 - accuracy: 0.5505 - val_loss: 0.9210 - val_accuracy: 0.6447\n",
      "Epoch 16/25\n",
      "20/20 [==============================] - 14s 717ms/step - loss: 1.1229 - accuracy: 0.5440 - val_loss: 0.8902 - val_accuracy: 0.6579\n",
      "Epoch 17/25\n",
      "20/20 [==============================] - 13s 627ms/step - loss: 1.0480 - accuracy: 0.5472 - val_loss: 0.8660 - val_accuracy: 0.6711\n",
      "Epoch 18/25\n",
      "20/20 [==============================] - 12s 575ms/step - loss: 1.1092 - accuracy: 0.5244 - val_loss: 0.8510 - val_accuracy: 0.6842\n",
      "Epoch 19/25\n",
      "20/20 [==============================] - 12s 579ms/step - loss: 1.0175 - accuracy: 0.5798 - val_loss: 0.8313 - val_accuracy: 0.6974\n",
      "Epoch 20/25\n",
      "20/20 [==============================] - 12s 584ms/step - loss: 1.0520 - accuracy: 0.5863 - val_loss: 0.8151 - val_accuracy: 0.7237\n",
      "Epoch 21/25\n",
      "20/20 [==============================] - 12s 599ms/step - loss: 0.9227 - accuracy: 0.6026 - val_loss: 0.7941 - val_accuracy: 0.7237\n",
      "Epoch 22/25\n",
      "20/20 [==============================] - 12s 576ms/step - loss: 0.9476 - accuracy: 0.6124 - val_loss: 0.7762 - val_accuracy: 0.7237\n",
      "Epoch 23/25\n",
      "20/20 [==============================] - 11s 562ms/step - loss: 0.9011 - accuracy: 0.6189 - val_loss: 0.7749 - val_accuracy: 0.7368\n",
      "Epoch 24/25\n",
      "20/20 [==============================] - 12s 593ms/step - loss: 0.8066 - accuracy: 0.6710 - val_loss: 0.7601 - val_accuracy: 0.7500\n",
      "Epoch 25/25\n",
      "20/20 [==============================] - 13s 663ms/step - loss: 0.9207 - accuracy: 0.6482 - val_loss: 0.7405 - val_accuracy: 0.7500\n"
     ]
    }
   ],
   "source": [
    "history = model.fit(train_ds,\n",
    "                    epochs=initial_epochs,\n",
    "                    validation_data=val_ds,\n",
    "                    callbacks=[tensorboard_callback])"
   ]
  },
  {
   "cell_type": "code",
   "execution_count": 292,
   "id": "b54fa9ab-c776-4136-9ad0-376fce8dcef1",
   "metadata": {},
   "outputs": [],
   "source": [
    "# acc = history.history['accuracy']\n",
    "# val_acc = history.history['val_accuracy']\n",
    "\n",
    "# loss = history.history['loss']\n",
    "# val_loss = history.history['val_loss']\n",
    "\n",
    "# plt.figure(figsize=(18, 18))\n",
    "# plt.subplot(2, 1, 1)\n",
    "# plt.plot(acc, label='Training Accuracy')\n",
    "# plt.plot(val_acc, label='Validation Accuracy')\n",
    "# plt.legend(loc='lower right')\n",
    "# plt.ylabel('Accuracy')\n",
    "# plt.ylim([min(plt.ylim()),1])\n",
    "# plt.title('Training and Validation Accuracy')\n",
    "\n",
    "# plt.subplot(2, 1, 2)\n",
    "# plt.plot(loss, label='Training Loss')\n",
    "# plt.plot(val_loss, label='Validation Loss')\n",
    "# plt.legend(loc='upper right')\n",
    "# plt.ylabel('Cross Entropy')\n",
    "# plt.ylim([0,5.0])\n",
    "# plt.title('Training and Validation Loss')\n",
    "# plt.xlabel('epoch')\n",
    "# # plt.savefig('saved_models/tl_mobileNetV2_2/plt_val_acc/tl_freese_' + str(dt_save) + '_' + str(time_save) + '_' + str(sc_model) + '.png')\n",
    "# plt.show()\n"
   ]
  },
  {
   "cell_type": "markdown",
   "id": "34c7c612-428c-4fb6-85f3-51dd000505dd",
   "metadata": {},
   "source": [
    "<h4>UN-FREESE</h4>"
   ]
  },
  {
   "cell_type": "code",
   "execution_count": 293,
   "id": "45f18c5c-352c-4d59-aecd-cdc81a51b5b9",
   "metadata": {},
   "outputs": [],
   "source": [
    "base_model.trainable = True"
   ]
  },
  {
   "cell_type": "code",
   "execution_count": 294,
   "id": "069d35e3-cebf-49f6-a9e0-b64c3e95a4eb",
   "metadata": {},
   "outputs": [
    {
     "name": "stdout",
     "output_type": "stream",
     "text": [
      "Aantal layers in het basis model:  154\n"
     ]
    }
   ],
   "source": [
    "print(\"Aantal layers in het basis model: \", len(base_model.layers))"
   ]
  },
  {
   "cell_type": "code",
   "execution_count": 295,
   "id": "e5ad13e7-d2fc-4749-a381-e1e69617f564",
   "metadata": {},
   "outputs": [],
   "source": [
    "fine_tune_at = 100\n",
    "\n",
    "# Freeze alle layers voor 'fine_tune_at' layer\n",
    "for layer in base_model.layers[:fine_tune_at]:\n",
    "  layer.trainable = False"
   ]
  },
  {
   "cell_type": "markdown",
   "id": "1ec62ab9-1c07-42cf-9b8e-48e334a652ab",
   "metadata": {},
   "source": [
    "<h4>Het model terug samenstellen</h4>"
   ]
  },
  {
   "cell_type": "code",
   "execution_count": 296,
   "id": "ef536ec4-3da9-4366-83a7-9f0b04cb73fc",
   "metadata": {},
   "outputs": [],
   "source": [
    "model.compile(loss=tf.keras.losses.SparseCategoricalCrossentropy(from_logits=False),\n",
    "              optimizer = tf.keras.optimizers.RMSprop(learning_rate=base_learning_rate/10),\n",
    "              metrics=['accuracy'])"
   ]
  },
  {
   "cell_type": "code",
   "execution_count": 297,
   "id": "ae6079a2-6f5f-4511-a97e-accb9323c1f6",
   "metadata": {},
   "outputs": [],
   "source": [
    "# model.summary()"
   ]
  },
  {
   "cell_type": "code",
   "execution_count": 298,
   "id": "0a98bfc4-e0ed-4829-bc00-109b01aff397",
   "metadata": {},
   "outputs": [
    {
     "data": {
      "text/plain": [
       "56"
      ]
     },
     "execution_count": 298,
     "metadata": {},
     "output_type": "execute_result"
    }
   ],
   "source": [
    "len(model.trainable_variables)"
   ]
  },
  {
   "cell_type": "markdown",
   "id": "d3799d09-fa11-44d4-9c2f-db1599b27c50",
   "metadata": {},
   "source": [
    "<h4>Voortzetting Model training, na de Un-Freese</h4>"
   ]
  },
  {
   "cell_type": "code",
   "execution_count": 299,
   "id": "5603dc19-f3f6-4145-a1cc-d6a360a9d50f",
   "metadata": {},
   "outputs": [
    {
     "name": "stdout",
     "output_type": "stream",
     "text": [
      "Epoch 25/50\n",
      "20/20 [==============================] - 26s 800ms/step - loss: 0.8091 - accuracy: 0.6678 - val_loss: 0.6516 - val_accuracy: 0.8026\n",
      "Epoch 26/50\n",
      "20/20 [==============================] - 16s 779ms/step - loss: 0.7183 - accuracy: 0.7492 - val_loss: 0.5651 - val_accuracy: 0.8158\n",
      "Epoch 27/50\n",
      "20/20 [==============================] - 15s 774ms/step - loss: 0.6776 - accuracy: 0.7427 - val_loss: 0.5408 - val_accuracy: 0.8026\n",
      "Epoch 28/50\n",
      "20/20 [==============================] - 15s 736ms/step - loss: 0.5720 - accuracy: 0.7948 - val_loss: 0.4568 - val_accuracy: 0.8421\n",
      "Epoch 29/50\n",
      "20/20 [==============================] - 16s 791ms/step - loss: 0.5827 - accuracy: 0.7622 - val_loss: 0.4699 - val_accuracy: 0.8158\n",
      "Epoch 30/50\n",
      "20/20 [==============================] - 16s 799ms/step - loss: 0.5256 - accuracy: 0.8078 - val_loss: 0.4018 - val_accuracy: 0.8421\n",
      "Epoch 31/50\n",
      "20/20 [==============================] - 17s 846ms/step - loss: 0.4846 - accuracy: 0.8111 - val_loss: 0.3417 - val_accuracy: 0.8553\n",
      "Epoch 32/50\n",
      "20/20 [==============================] - 16s 780ms/step - loss: 0.4963 - accuracy: 0.8143 - val_loss: 0.3980 - val_accuracy: 0.8421\n",
      "Epoch 33/50\n",
      "20/20 [==============================] - 16s 804ms/step - loss: 0.4829 - accuracy: 0.8208 - val_loss: 0.3551 - val_accuracy: 0.8684\n",
      "Epoch 34/50\n",
      "20/20 [==============================] - 16s 820ms/step - loss: 0.4317 - accuracy: 0.8176 - val_loss: 0.3428 - val_accuracy: 0.8684\n",
      "Epoch 35/50\n",
      "20/20 [==============================] - 15s 733ms/step - loss: 0.4423 - accuracy: 0.8502 - val_loss: 0.3874 - val_accuracy: 0.8684\n",
      "Epoch 36/50\n",
      "20/20 [==============================] - 17s 852ms/step - loss: 0.3545 - accuracy: 0.8567 - val_loss: 0.3321 - val_accuracy: 0.8684\n",
      "Epoch 37/50\n",
      "20/20 [==============================] - 17s 826ms/step - loss: 0.3898 - accuracy: 0.8730 - val_loss: 0.3694 - val_accuracy: 0.8684\n",
      "Epoch 38/50\n",
      "20/20 [==============================] - 15s 766ms/step - loss: 0.3982 - accuracy: 0.8697 - val_loss: 0.2722 - val_accuracy: 0.8947\n",
      "Epoch 39/50\n",
      "20/20 [==============================] - 18s 900ms/step - loss: 0.4328 - accuracy: 0.8534 - val_loss: 0.3765 - val_accuracy: 0.8684\n",
      "Epoch 40/50\n",
      "20/20 [==============================] - 16s 809ms/step - loss: 0.3275 - accuracy: 0.8860 - val_loss: 0.3345 - val_accuracy: 0.8684\n",
      "Epoch 41/50\n",
      "20/20 [==============================] - 17s 858ms/step - loss: 0.3348 - accuracy: 0.8860 - val_loss: 0.3259 - val_accuracy: 0.8684\n",
      "Epoch 42/50\n",
      "20/20 [==============================] - 15s 731ms/step - loss: 0.3224 - accuracy: 0.8795 - val_loss: 0.2878 - val_accuracy: 0.8684\n",
      "Epoch 43/50\n",
      "20/20 [==============================] - 13s 636ms/step - loss: 0.3090 - accuracy: 0.8827 - val_loss: 0.3632 - val_accuracy: 0.8684\n",
      "Epoch 44/50\n",
      "20/20 [==============================] - 12s 615ms/step - loss: 0.2899 - accuracy: 0.8925 - val_loss: 0.3284 - val_accuracy: 0.8684\n",
      "Epoch 45/50\n",
      "20/20 [==============================] - 16s 795ms/step - loss: 0.2890 - accuracy: 0.8860 - val_loss: 0.3316 - val_accuracy: 0.8684\n",
      "Epoch 46/50\n",
      "20/20 [==============================] - 14s 700ms/step - loss: 0.2787 - accuracy: 0.8990 - val_loss: 0.2716 - val_accuracy: 0.8947\n",
      "Epoch 47/50\n",
      "20/20 [==============================] - 16s 788ms/step - loss: 0.2901 - accuracy: 0.8860 - val_loss: 0.3067 - val_accuracy: 0.8684\n",
      "Epoch 48/50\n",
      "20/20 [==============================] - 16s 771ms/step - loss: 0.2661 - accuracy: 0.9186 - val_loss: 0.2794 - val_accuracy: 0.8947\n",
      "Epoch 49/50\n",
      "20/20 [==============================] - 14s 674ms/step - loss: 0.3212 - accuracy: 0.8860 - val_loss: 0.2969 - val_accuracy: 0.8684\n",
      "Epoch 50/50\n",
      "20/20 [==============================] - 13s 637ms/step - loss: 0.2899 - accuracy: 0.9153 - val_loss: 0.3389 - val_accuracy: 0.8684\n"
     ]
    }
   ],
   "source": [
    "fine_tune_epochs = 25\n",
    "total_epochs =  initial_epochs + fine_tune_epochs\n",
    "\n",
    "history_fine = model.fit(train_ds,\n",
    "                    epochs=total_epochs,\n",
    "                    initial_epoch=history.epoch[-1],\n",
    "                    validation_data=val_ds,\n",
    "                    callbacks=[tensorboard_callback])"
   ]
  },
  {
   "cell_type": "code",
   "execution_count": 326,
   "id": "1b0c51e5-8a04-4b3f-822b-7d7337bd723b",
   "metadata": {},
   "outputs": [
    {
     "ename": "TypeError",
     "evalue": "unsupported operand type(s) for +=: 'float' and 'list'",
     "output_type": "error",
     "traceback": [
      "\u001b[0;31m---------------------------------------------------------------------------\u001b[0m",
      "\u001b[0;31mTypeError\u001b[0m                                 Traceback (most recent call last)",
      "Cell \u001b[0;32mIn [326], line 4\u001b[0m\n\u001b[1;32m      1\u001b[0m acc \u001b[38;5;241m+\u001b[39m\u001b[38;5;241m=\u001b[39m history_fine\u001b[38;5;241m.\u001b[39mhistory[\u001b[38;5;124m'\u001b[39m\u001b[38;5;124maccuracy\u001b[39m\u001b[38;5;124m'\u001b[39m]\n\u001b[1;32m      2\u001b[0m val_acc \u001b[38;5;241m+\u001b[39m\u001b[38;5;241m=\u001b[39m history_fine\u001b[38;5;241m.\u001b[39mhistory[\u001b[38;5;124m'\u001b[39m\u001b[38;5;124mval_accuracy\u001b[39m\u001b[38;5;124m'\u001b[39m]\n\u001b[0;32m----> 4\u001b[0m loss \u001b[38;5;241m+\u001b[39m\u001b[38;5;241m=\u001b[39m history_fine\u001b[38;5;241m.\u001b[39mhistory[\u001b[38;5;124m'\u001b[39m\u001b[38;5;124mloss\u001b[39m\u001b[38;5;124m'\u001b[39m]\n\u001b[1;32m      5\u001b[0m val_loss \u001b[38;5;241m+\u001b[39m\u001b[38;5;241m=\u001b[39m history_fine\u001b[38;5;241m.\u001b[39mhistory[\u001b[38;5;124m'\u001b[39m\u001b[38;5;124mval_loss\u001b[39m\u001b[38;5;124m'\u001b[39m]\n",
      "\u001b[0;31mTypeError\u001b[0m: unsupported operand type(s) for +=: 'float' and 'list'"
     ]
    }
   ],
   "source": [
    "acc += history_fine.history['accuracy']\n",
    "val_acc += history_fine.history['val_accuracy']\n",
    "\n",
    "loss += history_fine.history['loss']\n",
    "val_loss += history_fine.history['val_loss']"
   ]
  },
  {
   "cell_type": "code",
   "execution_count": null,
   "id": "51eec4f6-8cb5-4fc5-9c78-f44b05f0afd3",
   "metadata": {},
   "outputs": [],
   "source": [
    "# plt.figure(figsize=(18, 18))\n",
    "# plt.subplot(2, 1, 1)\n",
    "# plt.plot(acc, label='Training Accuracy')\n",
    "# plt.plot(val_acc, label='Validation Accuracy')\n",
    "# plt.ylim([min(plt.ylim()),1])\n",
    "# plt.plot([initial_epochs-1,initial_epochs-1],\n",
    "#           plt.ylim(), label='Start Fine Tuning')\n",
    "# plt.legend(loc='lower right')\n",
    "# plt.title('Training and Validation Accuracy')\n",
    "\n",
    "\n",
    "# plt.subplot(2, 1, 2)\n",
    "# plt.plot(loss, label='Training Loss')\n",
    "# plt.plot(val_loss, label='Validation Loss')\n",
    "# plt.ylim([0, 5.0])\n",
    "# plt.plot([initial_epochs-1,initial_epochs-1],\n",
    "#          plt.ylim(), label='Start Fine Tuning')\n",
    "# plt.legend(loc='upper right')\n",
    "# plt.title('Training and Validation Loss')\n",
    "# plt.xlabel('epoch')\n",
    "\n",
    "\n",
    "# plt.subplot(2, 1, 2)\n",
    "# plt.plot(loss, label='Training Loss')\n",
    "# plt.plot(val_loss, label='Validation Loss')\n",
    "# plt.ylim([0,5.0])\n",
    "# plt.plot([initial_epochs-1,initial_epochs-1],\n",
    "#          plt.ylim(), label='Start Fine Tuning')\n",
    "# plt.legend(loc='upper right')\n",
    "# plt.title('Training and Validation Loss')\n",
    "# plt.xlabel('epoch')\n",
    "# plt.savefig('saved_models/tl_mobileNetV2_2/plt_val_acc/tl_UNfreese_' + str(dt_save) + '_' + str(time_save) + '_' + str(sc_model) + '.png')\n",
    "plt.show()"
   ]
  },
  {
   "cell_type": "code",
   "execution_count": null,
   "id": "e61c8c42-e149-41fa-a986-259e8ed20fa8",
   "metadata": {},
   "outputs": [],
   "source": [
    "# model.save('saved_models/tl_mobileNetV2/model/tl_' + str(dt_save) + '_' + str(time_save) + '_' + str(sc_model) + '.h5')"
   ]
  },
  {
   "cell_type": "markdown",
   "id": "d07cc7a2-ae42-436c-96c9-e29317b31120",
   "metadata": {},
   "source": [
    "<h4>Confusion Matrix</h4>"
   ]
  },
  {
   "cell_type": "code",
   "execution_count": 302,
   "id": "979b196a-a153-4e8d-bbf7-e093cf6cf7e8",
   "metadata": {},
   "outputs": [
    {
     "name": "stdout",
     "output_type": "stream",
     "text": [
      "8/8 [==============================] - 3s 260ms/step\n"
     ]
    },
    {
     "data": {
      "image/png": "[encoded data removed]",
      "text/plain": [
       "<Figure size 640x480 with 2 Axes>"
      ]
     },
     "metadata": {},
     "output_type": "display_data"
    }
   ],
   "source": [
    "\n",
    "from sklearn.metrics import confusion_matrix\n",
    "from sklearn.metrics import ConfusionMatrixDisplay\n",
    "\n",
    "batchPredictions = model.predict(test_ds)\n",
    "predicted_categories = tf.argmax(batchPredictions, axis=1)\n",
    "true_categories = tf.concat([y for x, y in test_ds], axis=0)\n",
    "\n",
    "confusion_matrix(predicted_categories, true_categories)\n",
    "\n",
    "confusion_matrix = confusion_matrix(true_categories, predicted_categories)\n",
    "cm_display = ConfusionMatrixDisplay(confusion_matrix = confusion_matrix,display_labels = ['Blotch', 'Normal', 'Rot', 'Scab'])\n",
    "\n",
    "cm_display.plot()\n",
    "# plt.savefig('saved_models/tl_mobileNetV2_2/plt_matrix/tl_matrix_' + str(dt_save) + '_' + str(time_save) + '_' + str(sc_model) + '.png')\n",
    "plt.show()\n"
   ]
  },
  {
   "cell_type": "markdown",
   "id": "f9f7a052-6218-4d1c-9869-ed2dda630a9e",
   "metadata": {},
   "source": [
    "###### <h4>Evaluatie en voorspelling</h4>"
   ]
  },
  {
   "cell_type": "code",
   "execution_count": 303,
   "id": "65a6430a-6d32-4ffe-a656-517ab58bca5e",
   "metadata": {},
   "outputs": [
    {
     "name": "stdout",
     "output_type": "stream",
     "text": [
      "8/8 [==============================] - 2s 264ms/step - loss: 0.6193 - accuracy: 0.7917\n",
      "Test accuracy : 0.7916666865348816\n"
     ]
    }
   ],
   "source": [
    "loss, accuracy = model.evaluate(test_ds)\n",
    "print('Test accuracy :', accuracy)"
   ]
  },
  {
   "cell_type": "code",
   "execution_count": 304,
   "id": "7f255db8-4f42-4501-8c40-c819e4cef4d9",
   "metadata": {},
   "outputs": [
    {
     "name": "stdout",
     "output_type": "stream",
     "text": [
      "Predictions:\n",
      " [1 1 1 1 1 1 1 1 1 1 1 1 1 1 1 1 1 1 1 1 1 1 1 1 1 1 1 1 1 1 1 1 1 1 1 1 1\n",
      " 1 1 1 1 1 1 1 1 1 1 1 1 1 1 1 1 1 1 1 1 1 1 1 1 1 1 1]\n",
      "Labels:\n",
      " [0 0 0 0 0 0 0 0 0 0 0 0 0 0 0 0]\n"
     ]
    }
   ],
   "source": [
    "image_batch, label_batch = test_ds.as_numpy_iterator().next()\n",
    "predictions = model.predict_on_batch(image_batch).flatten()\n",
    "\n",
    "predictions = tf.nn.sigmoid(predictions)\n",
    "predictions = tf.where(predictions < 0.5, 0, 1)\n",
    "\n",
    "print('Predictions:\\n', predictions.numpy())\n",
    "print('Labels:\\n', label_batch)\n",
    "\n",
    "# plt.figure(figsize=(10, 10))\n",
    "# for i in range(16):\n",
    "#     ax = plt.subplot(4, 4, i + 1)\n",
    "#     plt.imshow(images[i].numpy().astype(\"uint8\"))\n",
    "#     plt.title(class_names[labels[i]])\n",
    "#     plt.axis(\"off\")"
   ]
  },
  {
   "cell_type": "code",
   "execution_count": 305,
   "id": "a0c52c47-33a7-4692-aec5-47f6d5977296",
   "metadata": {},
   "outputs": [
    {
     "name": "stdout",
     "output_type": "stream",
     "text": [
      "Predictions:\n",
      " [1 1 1 1 1 1 1 1 1 1 1 1 1 1 1 1 1 1 1 1 1 1 1 1 1 1 1 1 1 1 1 1 1 1 1 1 1\n",
      " 1 1 1 1 1 1 1 1 1 1 1 1 1 1 1 1 1 1 1 1 1 1 1 1 1 1 1]\n",
      "Labels:\n",
      " [0 0 0 0 0 0 0 0 0 0 0 0 0 0 0 0]\n"
     ]
    }
   ],
   "source": [
    "image_batch, label_batch = apples_ds.as_numpy_iterator().next()\n",
    "predictions = model.predict_on_batch(image_batch).flatten()\n",
    "\n",
    "predictions = tf.nn.sigmoid(predictions)\n",
    "predictions = tf.where(predictions < 0.5, 0, 1)\n",
    "\n",
    "print('Predictions:\\n', predictions.numpy())\n",
    "print('Labels:\\n', label_batch)\n",
    "\n",
    "# plt.figure(figsize=(10, 10))\n",
    "# for i in range(16):\n",
    "#     ax = plt.subplot(4, 4, i + 1)\n",
    "#     plt.imshow(images[i].numpy().astype(\"uint8\"))\n",
    "#     plt.title(class_names[labels[i]])\n",
    "#     plt.axis(\"off\")"
   ]
  },
  {
   "cell_type": "code",
   "execution_count": 322,
   "id": "857eb37b-7e83-496d-a247-3827c377815c",
   "metadata": {},
   "outputs": [
    {
     "name": "stdout",
     "output_type": "stream",
     "text": [
      "[2 4 6 8]\n",
      "[2 4 6 8]\n"
     ]
    }
   ],
   "source": [
    "vector = np.vectorize(np.int_)\n",
    "y = np.array([2, 4, 6, 8])\n",
    "x = vector(y)\n",
    "\n",
    "print(x)\n",
    "print(y)\n",
    "# [2, 4, 6, 8]"
   ]
  },
  {
   "cell_type": "code",
   "execution_count": 325,
   "id": "451ab3b4-5165-4057-8bac-02d071915499",
   "metadata": {},
   "outputs": [
    {
     "ename": "ValueError",
     "evalue": "Failed to find data adapter that can handle input: <class 'numpy.vectorize'>, <class 'NoneType'>",
     "output_type": "error",
     "traceback": [
      "\u001b[0;31m---------------------------------------------------------------------------\u001b[0m",
      "\u001b[0;31mValueError\u001b[0m                                Traceback (most recent call last)",
      "Cell \u001b[0;32mIn [325], line 7\u001b[0m\n\u001b[1;32m      5\u001b[0m img_array \u001b[38;5;241m=\u001b[39m tf\u001b[38;5;241m.\u001b[39mexpand_dims(img_array, \u001b[38;5;241m1\u001b[39m)  \u001b[38;5;66;03m# Create batch axis\u001b[39;00m\n\u001b[1;32m      6\u001b[0m vectorApple \u001b[38;5;241m=\u001b[39m np\u001b[38;5;241m.\u001b[39mvectorize(np\u001b[38;5;241m.\u001b[39mint_)\n\u001b[0;32m----> 7\u001b[0m predictions \u001b[38;5;241m=\u001b[39m \u001b[43mmodel\u001b[49m\u001b[38;5;241;43m.\u001b[39;49m\u001b[43mpredict\u001b[49m\u001b[43m(\u001b[49m\u001b[43mvectorApple\u001b[49m\u001b[43m)\u001b[49m\n\u001b[1;32m      9\u001b[0m applePredict \u001b[38;5;241m=\u001b[39m \u001b[38;5;28mfloat\u001b[39m(predictions[\u001b[38;5;241m0\u001b[39m])\n\u001b[1;32m     10\u001b[0m \u001b[38;5;28mprint\u001b[39m(applePredict)\n",
      "File \u001b[0;32m~/miniconda3/lib/python3.9/site-packages/keras/utils/traceback_utils.py:70\u001b[0m, in \u001b[0;36mfilter_traceback.<locals>.error_handler\u001b[0;34m(*args, **kwargs)\u001b[0m\n\u001b[1;32m     67\u001b[0m     filtered_tb \u001b[38;5;241m=\u001b[39m _process_traceback_frames(e\u001b[38;5;241m.\u001b[39m__traceback__)\n\u001b[1;32m     68\u001b[0m     \u001b[38;5;66;03m# To get the full stack trace, call:\u001b[39;00m\n\u001b[1;32m     69\u001b[0m     \u001b[38;5;66;03m# `tf.debugging.disable_traceback_filtering()`\u001b[39;00m\n\u001b[0;32m---> 70\u001b[0m     \u001b[38;5;28;01mraise\u001b[39;00m e\u001b[38;5;241m.\u001b[39mwith_traceback(filtered_tb) \u001b[38;5;28;01mfrom\u001b[39;00m \u001b[38;5;28mNone\u001b[39m\n\u001b[1;32m     71\u001b[0m \u001b[38;5;28;01mfinally\u001b[39;00m:\n\u001b[1;32m     72\u001b[0m     \u001b[38;5;28;01mdel\u001b[39;00m filtered_tb\n",
      "File \u001b[0;32m~/miniconda3/lib/python3.9/site-packages/keras/engine/data_adapter.py:1083\u001b[0m, in \u001b[0;36mselect_data_adapter\u001b[0;34m(x, y)\u001b[0m\n\u001b[1;32m   1080\u001b[0m adapter_cls \u001b[38;5;241m=\u001b[39m [\u001b[38;5;28mcls\u001b[39m \u001b[38;5;28;01mfor\u001b[39;00m \u001b[38;5;28mcls\u001b[39m \u001b[38;5;129;01min\u001b[39;00m ALL_ADAPTER_CLS \u001b[38;5;28;01mif\u001b[39;00m \u001b[38;5;28mcls\u001b[39m\u001b[38;5;241m.\u001b[39mcan_handle(x, y)]\n\u001b[1;32m   1081\u001b[0m \u001b[38;5;28;01mif\u001b[39;00m \u001b[38;5;129;01mnot\u001b[39;00m adapter_cls:\n\u001b[1;32m   1082\u001b[0m     \u001b[38;5;66;03m# TODO(scottzhu): This should be a less implementation-specific error.\u001b[39;00m\n\u001b[0;32m-> 1083\u001b[0m     \u001b[38;5;28;01mraise\u001b[39;00m \u001b[38;5;167;01mValueError\u001b[39;00m(\n\u001b[1;32m   1084\u001b[0m         \u001b[38;5;124m\"\u001b[39m\u001b[38;5;124mFailed to find data adapter that can handle \u001b[39m\u001b[38;5;124m\"\u001b[39m\n\u001b[1;32m   1085\u001b[0m         \u001b[38;5;124m\"\u001b[39m\u001b[38;5;124minput: \u001b[39m\u001b[38;5;132;01m{}\u001b[39;00m\u001b[38;5;124m, \u001b[39m\u001b[38;5;132;01m{}\u001b[39;00m\u001b[38;5;124m\"\u001b[39m\u001b[38;5;241m.\u001b[39mformat(_type_name(x), _type_name(y))\n\u001b[1;32m   1086\u001b[0m     )\n\u001b[1;32m   1087\u001b[0m \u001b[38;5;28;01melif\u001b[39;00m \u001b[38;5;28mlen\u001b[39m(adapter_cls) \u001b[38;5;241m>\u001b[39m \u001b[38;5;241m1\u001b[39m:\n\u001b[1;32m   1088\u001b[0m     \u001b[38;5;28;01mraise\u001b[39;00m \u001b[38;5;167;01mRuntimeError\u001b[39;00m(\n\u001b[1;32m   1089\u001b[0m         \u001b[38;5;124m\"\u001b[39m\u001b[38;5;124mData adapters should be mutually exclusive for \u001b[39m\u001b[38;5;124m\"\u001b[39m\n\u001b[1;32m   1090\u001b[0m         \u001b[38;5;124m\"\u001b[39m\u001b[38;5;124mhandling inputs. Found multiple adapters \u001b[39m\u001b[38;5;132;01m{}\u001b[39;00m\u001b[38;5;124m to handle \u001b[39m\u001b[38;5;124m\"\u001b[39m\n\u001b[1;32m   1091\u001b[0m         \u001b[38;5;124m\"\u001b[39m\u001b[38;5;124minput: \u001b[39m\u001b[38;5;132;01m{}\u001b[39;00m\u001b[38;5;124m, \u001b[39m\u001b[38;5;132;01m{}\u001b[39;00m\u001b[38;5;124m\"\u001b[39m\u001b[38;5;241m.\u001b[39mformat(adapter_cls, _type_name(x), _type_name(y))\n\u001b[1;32m   1092\u001b[0m     )\n",
      "\u001b[0;31mValueError\u001b[0m: Failed to find data adapter that can handle input: <class 'numpy.vectorize'>, <class 'NoneType'>"
     ]
    }
   ],
   "source": [
    "img = keras.preprocessing.image.load_img(\n",
    "    \"../data/80apples/naamloze map/1832065205.jpg\", target_size=img_size\n",
    ")\n",
    "img_array = keras.preprocessing.image.img_to_array(img)\n",
    "img_array = tf.expand_dims(img_array, 1)  # Create batch axis\n",
    "vectorApple = np.vectorize(np.int_)\n",
    "predictions = model.predict(vectorApple)\n",
    "\n",
    "applePredict = float(predictions[0])\n",
    "print(applePredict)"
   ]
  },
  {
   "cell_type": "markdown",
   "id": "6fe4468e-b963-4c97-a9d9-b04ebd387a9b",
   "metadata": {},
   "source": [
    "<h2><a herf='https://keras.io/examples/vision/image_classification_from_scratch/' target='_blank' >Zie <strong>link</strong></a></h2>"
   ]
  },
  {
   "cell_type": "code",
   "execution_count": null,
   "id": "8e7aa5a4-fc01-4fe6-b702-cfebd0ddf1ce",
   "metadata": {},
   "outputs": [],
   "source": [
    "# run Tensorbord\n",
    "%tensorboard --logdir logs/"
   ]
  },
  {
   "cell_type": "code",
   "execution_count": null,
   "id": "e63ff341-d820-43b2-90be-afafd2d5aceb",
   "metadata": {},
   "outputs": [],
   "source": []
  }
 ],
 "metadata": {
  "kernelspec": {
   "display_name": "Python 3 (ipykernel)",
   "language": "python",
   "name": "python3"
  },
  "language_info": {
   "codemirror_mode": {
    "name": "ipython",
    "version": 3
   },
   "file_extension": ".py",
   "mimetype": "text/x-python",
   "name": "python",
   "nbconvert_exporter": "python",
   "pygments_lexer": "ipython3",
   "version": "3.9.12"
  },
  "vscode": {
   "interpreter": {
    "hash": "aee8b7b246df8f9039afb4144a1f6fd8d2ca17a180786b69acc140d282b71a49"
   }
  }
 },
 "nbformat": 4,
 "nbformat_minor": 5
}
