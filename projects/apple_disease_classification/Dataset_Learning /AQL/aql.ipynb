{
 "cells": [
  {
   "cell_type": "code",
   "execution_count": 7,
   "id": "6c8a82f7-4c16-4ddf-a82f-bd10dea5044c",
   "metadata": {},
   "outputs": [],
   "source": [
    "import os\n",
    "import matplotlib.pyplot as plt\n",
    "import numpy as np\n",
    "from pathlib import Path"
   ]
  },
  {
   "cell_type": "code",
   "execution_count": 9,
   "id": "d6f2ffa8-77ab-46c2-b3b5-9538bd222cff",
   "metadata": {},
   "outputs": [
    {
     "name": "stdout",
     "output_type": "stream",
     "text": [
      "File count: 2\n"
     ]
    }
   ],
   "source": [
    "# Data word op geslagen\n",
    "\n",
    "#Maak een folder aan\n",
    "# os.makedirs(\"/fig_2\")\n",
    "\n",
    "# Opzet datum voor het opslaan van een bestand.\n",
    "from datetime import datetime \n",
    "now = datetime.now()\n",
    "\n",
    "# dd/mm/YY\n",
    "time_save = now.strftime(\"%Hh%M\")\n",
    "dt_save = now.strftime(\"%d%m%Y\")\n",
    "# print(\"ddmmyyyy =\", dt_save)\n",
    "# print(\"HMS =\", time_save)\n",
    "\n",
    "# folder path to save model \n",
    "sp_fig = r'fig/'\n",
    "sc_fig = 0\n",
    "# Iterate directory\n",
    "for path in os.listdir(sp_fig):\n",
    "    # check if current path is a file\n",
    "    if os.path.isfile(os.path.join(sp_fig, path)):\n",
    "        sc_fig += 1\n",
    "print('File count:', sc_fig)"
   ]
  },
  {
   "cell_type": "markdown",
   "id": "e677af5b-bf25-4412-b847-372e14b756a7",
   "metadata": {},
   "source": [
    "<h4>Stappenplan opziet AQL</h4>\n",
    "<ol>\n",
    "    <li>Maak een lijst waarin de batch van apples zijn onderverdeeld. &rarr; normal, blotch, scab, rot. Deze lijst is nu vast maar moet door variable vervangen kunnen worden.</li>\n",
    "    <li >Maak een counter die de lijst telt of er het juist aantal appels is toegevoegd. Deze teller wordt ook gebruikt als teller voor het aantal keer dat de voorloop moet draaien.</li>\n",
    "    <li>Definieer het aantal appel labels en koppel deze aan het juiste aantal.</li>\n",
    "    <li>Maak een Appel check teller, hier in wordt opgeslagen hoe vaak de for loop heeft gedraaid.</li>\n",
    "    <li>Maak objecten die de klassen van de appels slaan.</li>\n",
    "    <li>Maak een for loop die controleert hoe vaak een label voorkomt in de tabel.</li>\n",
    "    <li>Maak een vergelijkings loop die aanduidt welke Klasse de gehele batch heeft</li>\n",
    "    <li>Maak een print statement om aan te tonen wat het resultaat is.</li>\n",
    "</ol>"
   ]
  },
  {
   "cell_type": "markdown",
   "id": "e6fb441b-9473-4d0b-903d-62feb7c25284",
   "metadata": {},
   "source": [
    "<h4>Aanmaken Batch</h4>\n",
    "<p>Hier wordt de gegeven batch aangemaakt. Gegeven is:</p>\n",
    "<ul>\n",
    "  <li>80 apple</li>\n",
    "    <ul>\n",
    "        <li>72 gezonde / normal appels</li>\n",
    "        <li>4 blotch</li>\n",
    "        <li>3 scab</li>\n",
    "        <li>1 rot</li>\n",
    "    </ul>    \n",
    "</ul>\n",
    "<h4>Informatie omtrend tabel</h4>\n",
    "<p>General Inspection Level: 1<br />\n",
    "    Lot size: een oogst batch bevat tussen de 5.000 en 10.000 appels</p>\n",
    "<ol>\n",
    "    <li>AQL kleiner of gelijk aan 0.4 &#8594 80</li>\n",
    "    <li>AQL tussen 0.4 en 2.5 &#8594 79 tot 73 </li>\n",
    "    <li>AQL tussen 2.5 en 0.65 &#8594 73 tot 71</li>\n",
    "    <li>AQL groter dan 0.65 &#8594 70 en kleiner </li>\n",
    "</ol>"
   ]
  },
  {
   "cell_type": "code",
   "execution_count": 27,
   "id": "7ef566e5-1cc8-44fd-9954-c7f7bb67ae4b",
   "metadata": {},
   "outputs": [
    {
     "name": "stdout",
     "output_type": "stream",
     "text": [
      "80\n"
     ]
    }
   ],
   "source": [
    "#### # batch = 80\n",
    "appleBatch = ['normal', 'normal' , 'normal', 'normal', 'normal', 'normal', 'normal', 'normal', 'normal', 'normal', 'normal', 'normal', 'normal', 'normal', 'normal', 'normal', 'normal', 'normal', 'normal', 'normal', 'normal', 'normal', 'normal', 'normal', 'normal', 'normal', 'normal', 'normal', 'normal', 'normal', 'normal', 'normal', 'normal', 'normal', 'normal', 'normal', 'normal', 'normal', 'normal', 'normal', 'normal', 'normal', 'normal', 'normal', 'normal', 'normal', 'normal', 'normal', 'normal', 'normal', 'normal', 'normal', 'normal', 'normal', 'normal', 'normal', 'normal', 'normal', 'normal', 'normal', 'normal', 'normal', 'normal', 'normal', 'normal', 'normal', 'normal', 'normal', 'normal', 'normal', 'normal', 'normal', 'blotch', 'blotch', 'blotch', 'blotch', 'rot', 'scab', 'scab', 'scab']\n",
    "\n",
    "# controle of aantal appels in batch wel correct is\n",
    "countBatch = 0\n",
    "for i in appleBatch:\n",
    "    countBatch = countBatch+1    \n",
    "print(countBatch)    "
   ]
  },
  {
   "cell_type": "code",
   "execution_count": 28,
   "id": "71d3be45-e98c-436d-bd99-df000661eac3",
   "metadata": {},
   "outputs": [
    {
     "name": "stdout",
     "output_type": "stream",
     "text": [
      "AQL Klasse 3 \n",
      "\n",
      "Normale appels: 72\n",
      "Blotch appels: 4\n",
      "Scab appels: 3\n",
      "Rotte appels: 1\n"
     ]
    }
   ],
   "source": [
    "# De appels opslpitsen in klasse\n",
    "\n",
    "\n",
    "countNormal = appleBatch.count('normal')\n",
    "countBlotch = appleBatch.count('blotch')\n",
    "countScab = appleBatch.count('scab')\n",
    "countRot = appleBatch.count('rot')\n",
    "\n",
    "def aqlclass (appleBatch):\n",
    "    countNormal = appleBatch.count('normal')\n",
    "    countBlotch = appleBatch.count('blotch')\n",
    "    countScab = appleBatch.count('scab')\n",
    "    countRot = appleBatch.count('rot')\n",
    "    if countNormal == 80:\n",
    "        return('AQL Klasse 1')\n",
    "    elif countScab + countBlotch + countRot <= 5:\n",
    "        return('AQL Klasse 2')\n",
    "    elif 6 <= countScab + countBlotch + countRot <= 10:\n",
    "        return('AQL Klasse 3')\n",
    "    else:\n",
    "        return('AQL Klasse 4 afgekeurd')\n",
    "        \n",
    "appleClass = aqlclass(apple_batch)\n",
    "print(appleClass, '\\n')\n",
    "    \n",
    "print('Normale appels:',countNormal)\n",
    "print('Blotch appels:',countBlotch)\n",
    "print('Scab appels:',countScab)\n",
    "print('Rotte appels:',countRot)"
   ]
  },
  {
   "cell_type": "code",
   "execution_count": 17,
   "id": "672ace7d-5b53-4340-b558-39c8dc07ec63",
   "metadata": {},
   "outputs": [
    {
     "data": {
      "image/png": "[encoded data removed]",
      "text/plain": [
       "<Figure size 1900x400 with 1 Axes>"
      ]
     },
     "metadata": {},
     "output_type": "display_data"
    }
   ],
   "source": [
    "namesLabels =['Nomal', 'Blotch', 'Scab', 'Rot']\n",
    "\n",
    "values = [countNormal, countBlotch, countScab, countRot]\n",
    "\n",
    "plt.figure(figsize=(19, 4))\n",
    "plt.subplot(131)\n",
    "plt.bar(namesLabels, values)\n",
    "plt.title('Batsch of Apples')\n",
    "# plt.savefig('fig/' + str(dt_save) + '_' + str(time_save) + '_' + str(sc_fig) + '.png')\n",
    "plt.show()\n"
   ]
  },
  {
   "cell_type": "code",
   "execution_count": null,
   "id": "1c7f2805-0178-43c5-9cf6-e8c5ba29923e",
   "metadata": {},
   "outputs": [],
   "source": []
  }
 ],
 "metadata": {
  "kernelspec": {
   "display_name": "Python 3 (ipykernel)",
   "language": "python",
   "name": "python3"
  },
  "language_info": {
   "codemirror_mode": {
    "name": "ipython",
    "version": 3
   },
   "file_extension": ".py",
   "mimetype": "text/x-python",
   "name": "python",
   "nbconvert_exporter": "python",
   "pygments_lexer": "ipython3",
   "version": "3.9.12"
  }
 },
 "nbformat": 4,
 "nbformat_minor": 5
}
