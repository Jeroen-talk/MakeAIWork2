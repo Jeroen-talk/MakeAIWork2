{
 "cells": [
  {
   "cell_type": "code",
   "execution_count": null,
   "id": "d6f2ffa8-77ab-46c2-b3b5-9538bd222cff",
   "metadata": {},
   "outputs": [],
   "source": [
    "\"\"\"\n",
    "1. maak een lijst waarin de app\n",
    "\n",
    "\"\"\""
   ]
  },
  {
   "cell_type": "markdown",
   "id": "e677af5b-bf25-4412-b847-372e14b756a7",
   "metadata": {},
   "source": [
    "<h4>Stappenplan opziet AQL</h4>\n",
    "<ol>\n",
    "    <li>Maak een lijst waarin de batch van apples zijn onderverdeeld. &rarr; normal, blotch, scab, rot. Deze lijst is nu vast maar moet door variable vervangen kunnen worden.</li>\n",
    "    <li >Maak een counter die de lijst telt of er het juist aantal appels is toegevoegd. Deze teller wordt ook gebruikt als teller voor het aantal keer dat de voorloop moet draaien.</li>\n",
    "    <li>Definieer het aantal appel labels en koppel deze aan het juiste aantal.</li>\n",
    "    <li>Maak een Appel check teller, hier in wordt opgeslagen hoe vaak de for loop heeft gedraaid.</li>\n",
    "    <li>Maak objecten die de klassen van de appels slaan.</li>\n",
    "    <li>Maak een for loop die controleert hoe vaak een label voorkomt in de tabel.</li>\n",
    "    <li>Maak een vergelijkings loop die aanduidt welke Klasse de gehele batch heeft</li>\n",
    "    <li>Maak een print statement om aan te tonen wat het resultaat is.</li>\n",
    "</ol>"
   ]
  },
  {
   "cell_type": "markdown",
   "id": "e6fb441b-9473-4d0b-903d-62feb7c25284",
   "metadata": {},
   "source": [
    "<h4>Aanmaken Batch</h4>\n",
    "<p>Hier wordt de gegeven batch aangemaakt. Gegeven is:</p>\n",
    "<ul>\n",
    "  <li>80 apple</li>\n",
    "    <ul>\n",
    "        <li>72 gezonde / normal appels</li>\n",
    "        <li>4 blotch</li>\n",
    "        <li>3 scab</li>\n",
    "        <li>1 rot</li>\n",
    "    </ul>    \n",
    "</ul>"
   ]
  },
  {
   "cell_type": "code",
   "execution_count": 22,
   "id": "2e34c773-794e-48e9-a33f-7023f6e4aecb",
   "metadata": {},
   "outputs": [
    {
     "name": "stdout",
     "output_type": "stream",
     "text": [
      "number is above 20\n"
     ]
    }
   ],
   "source": [
    "number = 101\n",
    "if number < 5:\n",
    "    print(\"number is below 5\")\n",
    "elif 5 <= number <= 20:\n",
    "    print(\"number is between 5-20\")\n",
    "else:\n",
    "    print(\"number is above 20\")"
   ]
  },
  {
   "cell_type": "code",
   "execution_count": 44,
   "id": "005e97aa-4e0c-4012-bbfa-d317b3074aac",
   "metadata": {},
   "outputs": [
    {
     "name": "stdout",
     "output_type": "stream",
     "text": [
      "80\n"
     ]
    }
   ],
   "source": [
    "\n",
    "# batch = 80\n",
    "apple_batch = ['normal', 'normal' , 'normal', 'normal', 'normal', 'normal', 'normal', 'normal', 'normal', 'normal', 'normal', 'normal', 'normal', 'normal', 'normal', 'normal', 'normal', 'normal', 'normal', 'normal', 'normal', 'normal', 'normal', 'normal', 'normal', 'normal', 'normal', 'normal', 'normal', 'normal', 'normal', 'normal', 'normal', 'normal', 'normal', 'normal', 'normal', 'normal', 'normal', 'normal', 'normal', 'normal', 'normal', 'normal', 'normal', 'normal', 'normal', 'normal', 'normal', 'normal', 'normal', 'normal', 'normal', 'normal', 'normal', 'normal', 'normal', 'normal', 'normal', 'normal', 'normal', 'normal', 'normal', 'normal', 'normal', 'normal', 'normal', 'normal', 'normal', 'normal', 'normal', 'normal', 'blotch', 'blotch', 'blotch', 'blotch', 'rot', 'scab', 'scab', 'scab']\n",
    "\n",
    "# controle of aantal appels in batch wel correct is\n",
    "countBatch = 0\n",
    "for i in apple_batch:\n",
    "    countBatch = countBatch+1    \n",
    "print(countBatch)    "
   ]
  },
  {
   "cell_type": "code",
   "execution_count": 45,
   "id": "71d3be45-e98c-436d-bd99-df000661eac3",
   "metadata": {},
   "outputs": [],
   "source": [
    "# normalApples = 72\n",
    "# blotchAppples = 4\n",
    "# scabApples = 3\n",
    "# rotApples = 1"
   ]
  },
  {
   "cell_type": "code",
   "execution_count": 59,
   "id": "567259e3-1289-41bb-8039-8780e4c597bc",
   "metadata": {},
   "outputs": [],
   "source": [
    "#difine quality label\n",
    "appleCheck = 0\n",
    "\n",
    "class1Apple = 0\n",
    "class2Apple = 0\n",
    "class3Apple = 0\n",
    "rejectApple = 0\n",
    "\n",
    "def apples():\n",
    "    if batch() == 80:\n",
    "        return class1Apple\n",
    "    elif batch() > 75:\n",
    "        return class2Apple\n",
    "    elif batch() > 70:\n",
    "        return class3Apple\n",
    "    else:\n",
    "        return rejectApple\n",
    "    "
   ]
  },
  {
   "cell_type": "code",
   "execution_count": 47,
   "id": "eea2aaa8-de2f-4ae4-b959-ac486e0409a5",
   "metadata": {},
   "outputs": [],
   "source": [
    "\n",
    "while appleCheck == countBatch:\n",
    "    appleQuality = apple()\n",
    "    if appelQuality == normal:\n",
    "        apples +=1\n",
    "    elif appelQuality == blotch:\n",
    "        apples +=1\n",
    "    elif appelQuality == scab:\n",
    "        apples +=1\n",
    "    else:\n",
    "        pass\n",
    "    appleCheck += 1\n",
    "    "
   ]
  },
  {
   "cell_type": "code",
   "execution_count": 60,
   "id": "ea37ae81-b76c-4a07-b202-be5965c3ae4f",
   "metadata": {},
   "outputs": [
    {
     "name": "stdout",
     "output_type": "stream",
     "text": [
      "0\n"
     ]
    }
   ],
   "source": [
    "print(appleCheck)"
   ]
  },
  {
   "cell_type": "code",
   "execution_count": null,
   "id": "1c7f2805-0178-43c5-9cf6-e8c5ba29923e",
   "metadata": {},
   "outputs": [],
   "source": []
  }
 ],
 "metadata": {
  "kernelspec": {
   "display_name": "Python 3 (ipykernel)",
   "language": "python",
   "name": "python3"
  },
  "language_info": {
   "codemirror_mode": {
    "name": "ipython",
    "version": 3
   },
   "file_extension": ".py",
   "mimetype": "text/x-python",
   "name": "python",
   "nbconvert_exporter": "python",
   "pygments_lexer": "ipython3",
   "version": "3.9.12"
  }
 },
 "nbformat": 4,
 "nbformat_minor": 5
}
