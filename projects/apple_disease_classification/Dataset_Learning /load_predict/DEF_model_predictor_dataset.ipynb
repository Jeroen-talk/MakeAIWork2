{
 "cells": [
  {
   "cell_type": "code",
   "execution_count": 96,
   "id": "70995b31-0628-4bd1-a67d-1ecba9ba1402",
   "metadata": {},
   "outputs": [],
   "source": [
    "import os\n",
    "\n",
    "import tensorflow as tf\n",
    "from tensorflow import keras\n",
    "\n",
    "import tensorflow_hub as hub\n",
    "import numpy as np\n",
    "# import numpy\n",
    "# import pandas as pd\n",
    "# import pickle\n",
    "# import os\n",
    "import pathlib\n",
    "\n",
    "# from tensorflow.keras.applications.resnet50 import preprocess_input, decode_predictions\n",
    "# from tensorflow.keras.preprocessing import image# Helper libraries\n",
    "# import matplotlib.pyplot as pl"
   ]
  },
  {
   "cell_type": "code",
   "execution_count": 97,
   "id": "8d355089-cb85-48fd-a949-9bfbee1c3eb6",
   "metadata": {},
   "outputs": [],
   "source": [
    "tf.get_logger().setLevel('ERROR')"
   ]
  },
  {
   "cell_type": "code",
   "execution_count": 98,
   "id": "dafb247a-c29c-4f67-b8a4-065fd5429685",
   "metadata": {},
   "outputs": [],
   "source": [
    "# Load image dataset\n",
    "dataset_path = \"../../data/80apples/\"\n",
    "data_dir = pathlib.Path(dataset_path)\n",
    "apple_images = list()"
   ]
  },
  {
   "cell_type": "code",
   "execution_count": 99,
   "id": "24cefae9-b162-4c21-83a9-8367fd51b118",
   "metadata": {},
   "outputs": [
    {
     "name": "stdout",
     "output_type": "stream",
     "text": [
      "<class 'list'>\n"
     ]
    }
   ],
   "source": [
    "for filename in os.listdir(dataset_path):\n",
    "    imgAppleDirectory = os.path.join(dataset_path)\n",
    "    apple_images.append(imgAppleDirectory)\n",
    "    # print(apple_images)\n",
    "    \n",
    "apple_images = [img for img in apple_images if \".jpg\" in img]\n",
    "print(type(apple_images))"
   ]
  },
  {
   "cell_type": "code",
   "execution_count": 100,
   "id": "346f5b8e-6b7d-44d2-bdc7-88e817139439",
   "metadata": {},
   "outputs": [],
   "source": [
    "# img = image.load_img(apple_images, target_size=(224, 224))\n",
    "img_size = (224, 224)\n",
    "batch_size= 32"
   ]
  },
  {
   "cell_type": "code",
   "execution_count": 101,
   "id": "a38e02c2-4b02-4708-862f-d64afe63cd89",
   "metadata": {},
   "outputs": [
    {
     "name": "stdout",
     "output_type": "stream",
     "text": [
      "Found 80 files belonging to 1 classes.\n"
     ]
    }
   ],
   "source": [
    "apple_images = tf.keras.utils.image_dataset_from_directory(\n",
    "  data_dir,\n",
    "  image_size=img_size,\n",
    "  batch_size=batch_size)"
   ]
  },
  {
   "cell_type": "code",
   "execution_count": 107,
   "id": "e04e0e11-da79-431a-a771-cf4976524515",
   "metadata": {},
   "outputs": [],
   "source": [
    "# Loadmodel\n",
    "model = tf.keras.models.load_model('../saved_models/tl_mobileNetV2/model/tl_24112022_20h37_1.h5', custom_objects=None, compile=True, options=None)\n",
    "classifier = tf.keras.Sequential([\n",
    "    hub.KerasLayer(\"https://tfhub.dev/google/tf2-preview/mobilenet_v2/classification/4\", input_shape=img_size+(3,))\n",
    "])\n",
    "# Show the model\n",
    "# model.summary()"
   ]
  },
  {
   "cell_type": "code",
   "execution_count": 108,
   "id": "6223c2f0-f87e-45f9-967b-ce08f3cf1cad",
   "metadata": {
    "tags": []
   },
   "outputs": [
    {
     "name": "stdout",
     "output_type": "stream",
     "text": [
      "3/3 [==============================] - 2s 391ms/step\n"
     ]
    }
   ],
   "source": [
    "# predictions = model.predict(apple_images).flatten()\n",
    "# clear predictions array\n",
    "predictions = np.zeros(0)\n",
    "predictions = model.predict(apple_images)\n",
    "# print(predictions)\n",
    "# print(type(predictions))\n",
    "# print('Predictions:\\n', predictions)\n",
    "# len(predictions)"
   ]
  },
  {
   "cell_type": "code",
   "execution_count": 109,
   "id": "198a1b02-38b3-4a68-91d1-1339160e4e79",
   "metadata": {},
   "outputs": [],
   "source": [
    "# Output structure:\n",
    "\n",
    "# apple 1 [p1, p2, p3, p4]\n",
    "# apple 2 [p1, p2, p3, p4]\n",
    "# apple 3 [p1, p2, p3, p4]\n",
    "\n",
    "# 1. Get highest p in list + store value:\n",
    "\n",
    "# Result:\n",
    "\n",
    "# result 1 [2, p2]\n",
    "# result 2 [1, p1]\n",
    "# result 3 [3, p3]"
   ]
  },
  {
   "cell_type": "code",
   "execution_count": 110,
   "id": "cf7b223b-4bb7-422f-b774-426747a3d144",
   "metadata": {},
   "outputs": [],
   "source": [
    "prediction_labels = ['Blotch', 'Normal', 'Rot', 'Scab']"
   ]
  },
  {
   "cell_type": "code",
   "execution_count": 111,
   "id": "39649d6a-c72c-452a-8738-e6f1c6728d63",
   "metadata": {},
   "outputs": [
    {
     "name": "stdout",
     "output_type": "stream",
     "text": [
      "['Normal', 'Blotch', 'Normal', 'Normal', 'Normal', 'Normal', 'Normal', 'Normal', 'Normal', 'Normal', 'Normal', 'Blotch', 'Rot', 'Normal', 'Blotch', 'Normal', 'Blotch', 'Normal', 'Normal', 'Normal', 'Normal', 'Normal', 'Blotch', 'Normal', 'Normal', 'Blotch', 'Normal', 'Normal', 'Normal', 'Normal', 'Normal', 'Normal', 'Normal', 'Rot', 'Scab', 'Scab', 'Normal', 'Normal', 'Normal', 'Blotch', 'Normal', 'Normal', 'Normal', 'Normal', 'Blotch', 'Normal', 'Normal', 'Normal', 'Normal', 'Normal', 'Scab', 'Rot', 'Blotch', 'Blotch', 'Normal', 'Normal', 'Blotch', 'Normal', 'Normal', 'Blotch', 'Normal', 'Normal', 'Normal', 'Normal', 'Normal', 'Normal', 'Normal', 'Rot', 'Normal', 'Normal', 'Normal', 'Normal', 'Normal', 'Blotch', 'Blotch', 'Normal', 'Blotch', 'Normal', 'Normal', 'Normal']\n"
     ]
    }
   ],
   "source": [
    "labels = list() \n",
    "\n",
    "for row in predictions:\n",
    "    \n",
    "    # Look at first label\n",
    "    highest = row[0]\n",
    "    index = 0\n",
    "    \n",
    "    for i in range(1, 4):\n",
    "        \n",
    "        if row[i] > highest:\n",
    "            \n",
    "            highest = row[i]\n",
    "            index = i\n",
    "            \n",
    "    labels.append(prediction_labels[index])\n",
    "    \n",
    "print(labels)"
   ]
  },
  {
   "cell_type": "code",
   "execution_count": null,
   "id": "897ed824-a6ba-4490-9823-807119c89003",
   "metadata": {},
   "outputs": [],
   "source": []
  }
 ],
 "metadata": {
  "kernelspec": {
   "display_name": "Python 3 (ipykernel)",
   "language": "python",
   "name": "python3"
  },
  "language_info": {
   "codemirror_mode": {
    "name": "ipython",
    "version": 3
   },
   "file_extension": ".py",
   "mimetype": "text/x-python",
   "name": "python",
   "nbconvert_exporter": "python",
   "pygments_lexer": "ipython3",
   "version": "3.9.12"
  }
 },
 "nbformat": 4,
 "nbformat_minor": 5
}
