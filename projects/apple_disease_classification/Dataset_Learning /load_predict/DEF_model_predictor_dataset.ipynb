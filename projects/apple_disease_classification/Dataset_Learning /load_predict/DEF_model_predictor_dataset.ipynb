{
 "cells": [
  {
   "cell_type": "code",
   "execution_count": 27,
   "id": "70995b31-0628-4bd1-a67d-1ecba9ba1402",
   "metadata": {},
   "outputs": [],
   "source": [
    "import os\n",
    "\n",
    "import tensorflow as tf\n",
    "from tensorflow import keras\n",
    "\n",
    "import tensorflow_hub as hub\n",
    "import numpy as np\n",
    "import numpy\n",
    "import pandas as pd\n",
    "import pickle\n",
    "import os\n",
    "import pathlib\n",
    "\n",
    "from tensorflow.keras.applications.resnet50 import preprocess_input, decode_predictions\n",
    "from tensorflow.keras.preprocessing import image# Helper libraries\n",
    "import matplotlib.pyplot as pl"
   ]
  },
  {
   "cell_type": "code",
   "execution_count": 28,
   "id": "8d355089-cb85-48fd-a949-9bfbee1c3eb6",
   "metadata": {},
   "outputs": [],
   "source": [
    "tf.get_logger().setLevel('ERROR')"
   ]
  },
  {
   "cell_type": "code",
   "execution_count": 29,
   "id": "dafb247a-c29c-4f67-b8a4-065fd5429685",
   "metadata": {},
   "outputs": [],
   "source": [
    "# Load image dataset\n",
    "dataset_path = \"../../data/80apples/\"\n",
    "data_dir = pathlib.Path(dataset_path)\n",
    "apple_images = list()"
   ]
  },
  {
   "cell_type": "code",
   "execution_count": 30,
   "id": "24cefae9-b162-4c21-83a9-8367fd51b118",
   "metadata": {},
   "outputs": [
    {
     "name": "stdout",
     "output_type": "stream",
     "text": [
      "<class 'list'>\n"
     ]
    }
   ],
   "source": [
    "for filename in os.listdir(dataset_path):\n",
    "    imgAppleDirectory = os.path.join(dataset_path)\n",
    "    apple_images.append(imgAppleDirectory)\n",
    "    # print(apple_images)\n",
    "    \n",
    "apple_images = [img for img in apple_images if \".jpg\" in img]\n",
    "print(type(apple_images))"
   ]
  },
  {
   "cell_type": "code",
   "execution_count": 31,
   "id": "346f5b8e-6b7d-44d2-bdc7-88e817139439",
   "metadata": {},
   "outputs": [],
   "source": [
    "# img = image.load_img(apple_images, target_size=(224, 224))\n",
    "img_size = (224, 224)\n",
    "batch_size= 32"
   ]
  },
  {
   "cell_type": "code",
   "execution_count": 32,
   "id": "a38e02c2-4b02-4708-862f-d64afe63cd89",
   "metadata": {},
   "outputs": [
    {
     "name": "stdout",
     "output_type": "stream",
     "text": [
      "Found 80 files belonging to 1 classes.\n"
     ]
    }
   ],
   "source": [
    "apple_images = tf.keras.utils.image_dataset_from_directory(\n",
    "  data_dir,\n",
    "  image_size=img_size,\n",
    "  batch_size=batch_size)"
   ]
  },
  {
   "cell_type": "code",
   "execution_count": 33,
   "id": "e04e0e11-da79-431a-a771-cf4976524515",
   "metadata": {},
   "outputs": [
    {
     "name": "stdout",
     "output_type": "stream",
     "text": [
      "Model: \"model\"\n",
      "_________________________________________________________________\n",
      " Layer (type)                Output Shape              Param #   \n",
      "=================================================================\n",
      " input_2 (InputLayer)        [(None, 224, 224, 3)]     0         \n",
      "                                                                 \n",
      " sequential (Sequential)     (None, 224, 224, 3)       0         \n",
      "                                                                 \n",
      " tf.math.truediv (TFOpLambda  (None, 224, 224, 3)      0         \n",
      " )                                                               \n",
      "                                                                 \n",
      " tf.math.subtract (TFOpLambd  (None, 224, 224, 3)      0         \n",
      " a)                                                              \n",
      "                                                                 \n",
      " mobilenetv2_1.00_224 (Funct  (None, 7, 7, 1280)       2257984   \n",
      " ional)                                                          \n",
      "                                                                 \n",
      " global_average_pooling2d (G  (None, 1280)             0         \n",
      " lobalAveragePooling2D)                                          \n",
      "                                                                 \n",
      " dropout (Dropout)           (None, 1280)              0         \n",
      "                                                                 \n",
      " flatten (Flatten)           (None, 1280)              0         \n",
      "                                                                 \n",
      " dense_1 (Dense)             (None, 4)                 5124      \n",
      "                                                                 \n",
      "=================================================================\n",
      "Total params: 2,263,108\n",
      "Trainable params: 1,866,564\n",
      "Non-trainable params: 396,544\n",
      "_________________________________________________________________\n"
     ]
    }
   ],
   "source": [
    "# Loadmodel\n",
    "model = tf.keras.models.load_model('../saved_models/tl_mobileNetV2/model/tl_22112022_12h10_1.h5', custom_objects=None, compile=True, options=None)\n",
    "classifier = tf.keras.Sequential([\n",
    "    hub.KerasLayer(\"https://tfhub.dev/google/tf2-preview/mobilenet_v2/classification/4\", input_shape=img_size+(3,))\n",
    "])\n",
    "# Show the model\n",
    "model.summary()"
   ]
  },
  {
   "cell_type": "code",
   "execution_count": 34,
   "id": "6223c2f0-f87e-45f9-967b-ce08f3cf1cad",
   "metadata": {
    "tags": []
   },
   "outputs": [
    {
     "name": "stdout",
     "output_type": "stream",
     "text": [
      "3/3 [==============================] - 2s 369ms/step\n",
      "<class 'numpy.ndarray'>\n",
      "Predictions:\n",
      " [[1.01086780e-01 8.73134136e-01 2.40809545e-02 1.69817253e-03]\n",
      " [2.98920274e-01 3.89359534e-01 2.41827890e-02 2.87537366e-01]\n",
      " [9.59433675e-01 2.19885949e-02 1.35311568e-02 5.04650502e-03]\n",
      " [5.29243145e-04 9.93137240e-01 6.08730363e-03 2.46207113e-04]\n",
      " [4.12381142e-02 9.20280814e-01 7.54030561e-03 3.09408456e-02]\n",
      " [1.77066192e-01 7.68127561e-01 4.90039624e-02 5.80231519e-03]\n",
      " [6.43730527e-05 9.99873638e-01 3.99859600e-05 2.18771529e-05]\n",
      " [8.50800499e-02 7.50585079e-01 2.01023724e-02 1.44232541e-01]\n",
      " [7.12733194e-02 8.95985603e-01 1.87750235e-02 1.39660304e-02]\n",
      " [3.03934664e-02 9.62696820e-02 1.74531750e-02 8.55883718e-01]\n",
      " [9.94013739e-04 9.96784329e-01 1.92108902e-03 3.00467887e-04]\n",
      " [5.39367385e-02 7.89693177e-01 1.52194545e-01 4.17548697e-03]\n",
      " [1.51573669e-03 9.92922187e-01 3.38856643e-03 2.17337813e-03]\n",
      " [9.10918176e-01 3.94120347e-04 1.28890341e-03 8.73988271e-02]\n",
      " [2.34024972e-02 8.75298500e-01 9.59102288e-02 5.38875302e-03]\n",
      " [1.79100642e-03 9.93216097e-01 4.61887009e-03 3.74076248e-04]\n",
      " [5.36983926e-03 6.47000253e-01 3.40368152e-01 7.26170652e-03]\n",
      " [7.94127525e-04 9.97922719e-01 6.98547752e-04 5.84604917e-04]\n",
      " [4.61432070e-01 3.56108278e-01 1.77304640e-01 5.15507441e-03]\n",
      " [3.71542096e-01 3.83417040e-01 5.26755266e-02 1.92365348e-01]\n",
      " [4.90330160e-02 4.51865733e-01 4.98763293e-01 3.38008191e-04]\n",
      " [8.58226884e-03 9.70718086e-01 9.22660995e-03 1.14730420e-02]\n",
      " [8.01635623e-01 1.40454367e-01 3.14594992e-02 2.64504477e-02]\n",
      " [6.76140860e-02 2.74269700e-01 6.56295300e-01 1.82093645e-03]\n",
      " [1.21095795e-02 9.43715394e-01 4.07181643e-02 3.45690711e-03]\n",
      " [7.25113630e-01 2.47871161e-01 3.02582071e-03 2.39894260e-02]\n",
      " [5.27868839e-03 9.59780335e-01 2.26528719e-02 1.22880470e-02]\n",
      " [9.88164172e-02 8.04085374e-01 2.38531898e-03 9.47129428e-02]\n",
      " [2.51207151e-03 9.83869493e-01 1.28000788e-02 8.18351051e-04]\n",
      " [7.94974983e-01 1.48764744e-01 3.01283002e-02 2.61319727e-02]\n",
      " [6.89023614e-01 2.85992891e-01 1.95565186e-02 5.42702479e-03]\n",
      " [9.23985499e-04 1.17327261e-03 9.92642701e-01 5.26005588e-03]\n",
      " [1.32764755e-02 6.18245184e-01 3.67428094e-01 1.05026318e-03]\n",
      " [4.33013737e-01 5.47237635e-01 4.67610452e-03 1.50725255e-02]\n",
      " [2.60876305e-02 9.29972947e-01 5.35871554e-03 3.85806561e-02]\n",
      " [4.32612985e-01 5.56439579e-01 8.73971730e-03 2.20771809e-03]\n",
      " [1.97255937e-03 9.95623410e-01 5.04161755e-04 1.89983170e-03]\n",
      " [1.39953690e-02 9.71671343e-01 9.39725153e-03 4.93600126e-03]\n",
      " [5.29847154e-03 9.45630014e-01 3.23876180e-02 1.66840088e-02]\n",
      " [2.31863698e-03 9.91083026e-01 6.18231483e-03 4.15992050e-04]\n",
      " [3.11153615e-03 9.87188220e-01 3.78352660e-03 5.91670675e-03]\n",
      " [5.82835115e-02 7.40759313e-01 4.01727250e-03 1.96939945e-01]\n",
      " [1.36772022e-02 8.76151919e-01 2.11010072e-02 8.90698209e-02]\n",
      " [7.59512007e-01 6.74068779e-02 1.60390213e-01 1.26909819e-02]\n",
      " [5.16220555e-03 9.83534038e-01 3.70975351e-03 7.59406108e-03]\n",
      " [7.61872455e-02 5.45899808e-01 3.77543956e-01 3.68917827e-04]\n",
      " [7.71040656e-03 9.78671908e-01 2.39227363e-03 1.12253977e-02]\n",
      " [1.00664294e-03 9.93664980e-01 9.99186421e-04 4.32928186e-03]\n",
      " [7.37515744e-03 9.80444431e-01 2.79743643e-03 9.38298181e-03]\n",
      " [2.17224285e-03 9.96409833e-01 1.60395546e-04 1.25754136e-03]\n",
      " [4.38909620e-01 4.86560911e-01 1.03192395e-02 6.42101914e-02]\n",
      " [2.25372180e-01 6.93124056e-01 5.12509421e-02 3.02528460e-02]\n",
      " [1.04801364e-01 7.97665119e-01 9.43310559e-02 3.20243044e-03]\n",
      " [7.20453262e-03 9.84257042e-01 9.39070364e-04 7.59936823e-03]\n",
      " [1.61106866e-02 8.43483675e-03 7.10669532e-02 9.04387593e-01]\n",
      " [1.51109847e-03 9.87106085e-01 4.00125235e-03 7.38155330e-03]\n",
      " [6.39937103e-01 2.17534140e-01 3.32883163e-03 1.39199913e-01]\n",
      " [9.79515493e-01 1.72234827e-03 2.57948972e-03 1.61826499e-02]\n",
      " [4.00469542e-01 5.74693441e-01 1.99191831e-03 2.28451453e-02]\n",
      " [4.41693068e-02 9.38606083e-01 2.25751055e-03 1.49670672e-02]\n",
      " [1.29583269e-01 4.39562440e-01 3.91557157e-01 3.92970741e-02]\n",
      " [2.24432498e-01 7.42761135e-01 2.23918594e-02 1.04145668e-02]\n",
      " [2.38898583e-02 9.64549720e-01 1.00886412e-02 1.47175661e-03]\n",
      " [1.95851713e-01 6.29366517e-01 1.82143189e-02 1.56567410e-01]\n",
      " [2.82685068e-02 8.48816991e-01 2.59406399e-02 9.69738141e-02]\n",
      " [5.41829228e-01 3.28287810e-01 8.80775154e-02 4.18054350e-02]\n",
      " [9.17944491e-01 5.11957519e-03 2.06428021e-02 5.62931038e-02]\n",
      " [8.58226884e-03 9.70718086e-01 9.22660995e-03 1.14730420e-02]\n",
      " [5.00247302e-03 9.79446054e-01 1.22129768e-02 3.33844894e-03]\n",
      " [1.76154189e-02 9.73003745e-01 8.78121052e-03 5.99600258e-04]\n",
      " [2.06613094e-01 7.74070144e-01 1.27962604e-02 6.52047852e-03]\n",
      " [1.17087550e-02 9.34202015e-01 3.12247444e-02 2.28644386e-02]\n",
      " [2.10263254e-03 9.92964268e-01 2.13118549e-03 2.80198641e-03]\n",
      " [8.58226884e-03 9.70718086e-01 9.22660995e-03 1.14730420e-02]\n",
      " [9.01704596e-04 9.95799482e-01 3.13740340e-03 1.61404838e-04]\n",
      " [1.89056739e-01 7.92818964e-01 8.98009725e-03 9.14422888e-03]\n",
      " [8.12444463e-03 9.70700562e-01 5.86634316e-03 1.53085841e-02]\n",
      " [3.59153181e-01 5.77991962e-01 3.98578197e-02 2.29970329e-02]\n",
      " [1.86412796e-01 6.47942245e-01 1.54832780e-01 1.08122062e-02]\n",
      " [1.14817500e-01 1.92830667e-01 6.52926028e-01 3.94258313e-02]]\n"
     ]
    },
    {
     "data": {
      "text/plain": [
       "80"
      ]
     },
     "execution_count": 34,
     "metadata": {},
     "output_type": "execute_result"
    }
   ],
   "source": [
    "# predictions = model.predict(apple_images).flatten()\n",
    "# clear predictions array\n",
    "predictions = np.zeros(0)\n",
    "predictions = model.predict(apple_images)\n",
    "# print(predictions)\n",
    "print(type(predictions))\n",
    "print('Predictions:\\n', predictions)\n",
    "len(predictions)"
   ]
  },
  {
   "cell_type": "code",
   "execution_count": null,
   "id": "198a1b02-38b3-4a68-91d1-1339160e4e79",
   "metadata": {},
   "outputs": [],
   "source": [
    "# Output structure:\n",
    "\n",
    "# apple 1 [p1, p2, p3, p4]\n",
    "# apple 2 [p1, p2, p3, p4]\n",
    "# apple 3 [p1, p2, p3, p4]\n",
    "\n",
    "# 1. Get highest p in list + store value:\n",
    "\n",
    "# Result:\n",
    "\n",
    "# result 1 [2, p2]\n",
    "# result 2 [1, p1]\n",
    "# result 3 [3, p3]"
   ]
  },
  {
   "cell_type": "code",
   "execution_count": 45,
   "id": "cf7b223b-4bb7-422f-b774-426747a3d144",
   "metadata": {},
   "outputs": [],
   "source": [
    "prediction_labels = ['Blotch', 'Normal', 'Rot', 'Scab']"
   ]
  },
  {
   "cell_type": "code",
   "execution_count": 46,
   "id": "39649d6a-c72c-452a-8738-e6f1c6728d63",
   "metadata": {},
   "outputs": [
    {
     "name": "stdout",
     "output_type": "stream",
     "text": [
      "['Normal', 'Normal', 'Blotch', 'Normal', 'Normal', 'Normal', 'Normal', 'Normal', 'Normal', 'Scab', 'Normal', 'Normal', 'Normal', 'Blotch', 'Normal', 'Normal', 'Normal', 'Normal', 'Blotch', 'Normal', 'Rot', 'Normal', 'Blotch', 'Rot', 'Normal', 'Blotch', 'Normal', 'Normal', 'Normal', 'Blotch', 'Blotch', 'Rot', 'Normal', 'Normal', 'Normal', 'Normal', 'Normal', 'Normal', 'Normal', 'Normal', 'Normal', 'Normal', 'Normal', 'Blotch', 'Normal', 'Normal', 'Normal', 'Normal', 'Normal', 'Normal', 'Normal', 'Normal', 'Normal', 'Normal', 'Scab', 'Normal', 'Blotch', 'Blotch', 'Normal', 'Normal', 'Normal', 'Normal', 'Normal', 'Normal', 'Normal', 'Blotch', 'Blotch', 'Normal', 'Normal', 'Normal', 'Normal', 'Normal', 'Normal', 'Normal', 'Normal', 'Normal', 'Normal', 'Normal', 'Normal', 'Rot']\n"
     ]
    }
   ],
   "source": [
    "labels = list() \n",
    "\n",
    "for row in predictions:\n",
    "    \n",
    "    # Look at first label\n",
    "    highest = row[0]\n",
    "    index = 0\n",
    "    \n",
    "    for i in range(1, 4):\n",
    "        \n",
    "        if row[i] > highest:\n",
    "            \n",
    "            highest = row[i]\n",
    "            index = i\n",
    "            \n",
    "    labels.append(prediction_labels[index])\n",
    "    \n",
    "print(labels)"
   ]
  },
  {
   "cell_type": "code",
   "execution_count": null,
   "id": "897ed824-a6ba-4490-9823-807119c89003",
   "metadata": {},
   "outputs": [],
   "source": []
  }
 ],
 "metadata": {
  "kernelspec": {
   "display_name": "Python 3 (ipykernel)",
   "language": "python",
   "name": "python3"
  },
  "language_info": {
   "codemirror_mode": {
    "name": "ipython",
    "version": 3
   },
   "file_extension": ".py",
   "mimetype": "text/x-python",
   "name": "python",
   "nbconvert_exporter": "python",
   "pygments_lexer": "ipython3",
   "version": "3.9.12"
  }
 },
 "nbformat": 4,
 "nbformat_minor": 5
}
